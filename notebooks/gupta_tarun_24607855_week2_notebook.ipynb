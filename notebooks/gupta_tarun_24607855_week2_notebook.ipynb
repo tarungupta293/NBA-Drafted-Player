{
 "cells": [
  {
   "cell_type": "markdown",
   "id": "0d060c16",
   "metadata": {},
   "source": [
    "Import train and test dataset on which we need to perform the analysis."
   ]
  },
  {
   "cell_type": "code",
   "execution_count": null,
   "id": "c399df8f",
   "metadata": {},
   "outputs": [],
   "source": [
    "import pandas as pd\n",
    "pd.set_option('display.max_columns', None)\n",
    "pd.set_option('display.max_rows', None)\n",
    "df_train = pd.read_csv(\"D:\\\\Tarun\\\\UTS\\\\Subjects\\\\ADV ML\\\\NBA-Drafted-Player\\\\src\\\\models\\\\train.csv\")\n",
    "df_test = pd.read_csv(\"D:\\\\Tarun\\\\UTS\\\\Subjects\\\\ADV ML\\\\NBA-Drafted-Player\\\\src\\\\models\\\\test.csv\")"
   ]
  },
  {
   "cell_type": "code",
   "execution_count": 130,
   "id": "939c84dc",
   "metadata": {},
   "outputs": [
    {
     "data": {
      "text/html": [
       "<div>\n",
       "<style scoped>\n",
       "    .dataframe tbody tr th:only-of-type {\n",
       "        vertical-align: middle;\n",
       "    }\n",
       "\n",
       "    .dataframe tbody tr th {\n",
       "        vertical-align: top;\n",
       "    }\n",
       "\n",
       "    .dataframe thead th {\n",
       "        text-align: right;\n",
       "    }\n",
       "</style>\n",
       "<table border=\"1\" class=\"dataframe\">\n",
       "  <thead>\n",
       "    <tr style=\"text-align: right;\">\n",
       "      <th></th>\n",
       "      <th>team</th>\n",
       "      <th>conf</th>\n",
       "      <th>GP</th>\n",
       "      <th>Min_per</th>\n",
       "      <th>Ortg</th>\n",
       "      <th>usg</th>\n",
       "      <th>eFG</th>\n",
       "      <th>TS_per</th>\n",
       "      <th>ORB_per</th>\n",
       "      <th>DRB_per</th>\n",
       "      <th>AST_per</th>\n",
       "      <th>TO_per</th>\n",
       "      <th>FTM</th>\n",
       "      <th>FTA</th>\n",
       "      <th>FT_per</th>\n",
       "      <th>twoPM</th>\n",
       "      <th>twoPA</th>\n",
       "      <th>twoP_per</th>\n",
       "      <th>TPM</th>\n",
       "      <th>TPA</th>\n",
       "      <th>TP_per</th>\n",
       "      <th>blk_per</th>\n",
       "      <th>stl_per</th>\n",
       "      <th>ftr</th>\n",
       "      <th>yr</th>\n",
       "      <th>ht</th>\n",
       "      <th>num</th>\n",
       "      <th>porpag</th>\n",
       "      <th>adjoe</th>\n",
       "      <th>pfr</th>\n",
       "      <th>year</th>\n",
       "      <th>type</th>\n",
       "      <th>Rec_Rank</th>\n",
       "      <th>ast_tov</th>\n",
       "      <th>rimmade</th>\n",
       "      <th>rimmade_rimmiss</th>\n",
       "      <th>midmade</th>\n",
       "      <th>midmade_midmiss</th>\n",
       "      <th>rim_ratio</th>\n",
       "      <th>mid_ratio</th>\n",
       "      <th>dunksmade</th>\n",
       "      <th>dunksmiss_dunksmade</th>\n",
       "      <th>dunks_ratio</th>\n",
       "      <th>pick</th>\n",
       "      <th>drtg</th>\n",
       "      <th>adrtg</th>\n",
       "      <th>dporpag</th>\n",
       "      <th>stops</th>\n",
       "      <th>bpm</th>\n",
       "      <th>obpm</th>\n",
       "      <th>dbpm</th>\n",
       "      <th>gbpm</th>\n",
       "      <th>mp</th>\n",
       "      <th>ogbpm</th>\n",
       "      <th>dgbpm</th>\n",
       "      <th>oreb</th>\n",
       "      <th>dreb</th>\n",
       "      <th>treb</th>\n",
       "      <th>ast</th>\n",
       "      <th>stl</th>\n",
       "      <th>blk</th>\n",
       "      <th>pts</th>\n",
       "      <th>player_id</th>\n",
       "      <th>drafted</th>\n",
       "    </tr>\n",
       "  </thead>\n",
       "  <tbody>\n",
       "    <tr>\n",
       "      <th>0</th>\n",
       "      <td>South Alabama</td>\n",
       "      <td>SB</td>\n",
       "      <td>26</td>\n",
       "      <td>29.5</td>\n",
       "      <td>97.3</td>\n",
       "      <td>16.6</td>\n",
       "      <td>42.5</td>\n",
       "      <td>44.43</td>\n",
       "      <td>1.6</td>\n",
       "      <td>4.6</td>\n",
       "      <td>15.8</td>\n",
       "      <td>16.3</td>\n",
       "      <td>10</td>\n",
       "      <td>14</td>\n",
       "      <td>0.714</td>\n",
       "      <td>26</td>\n",
       "      <td>68</td>\n",
       "      <td>0.382</td>\n",
       "      <td>13</td>\n",
       "      <td>39</td>\n",
       "      <td>0.333</td>\n",
       "      <td>0.3</td>\n",
       "      <td>1.5</td>\n",
       "      <td>13.1</td>\n",
       "      <td>So</td>\n",
       "      <td>2-Jun</td>\n",
       "      <td>NaN</td>\n",
       "      <td>0.258086</td>\n",
       "      <td>89.3938</td>\n",
       "      <td>2.5</td>\n",
       "      <td>2009</td>\n",
       "      <td>all</td>\n",
       "      <td>NaN</td>\n",
       "      <td>1.823646</td>\n",
       "      <td>NaN</td>\n",
       "      <td>NaN</td>\n",
       "      <td>NaN</td>\n",
       "      <td>NaN</td>\n",
       "      <td>NaN</td>\n",
       "      <td>NaN</td>\n",
       "      <td>NaN</td>\n",
       "      <td>NaN</td>\n",
       "      <td>NaN</td>\n",
       "      <td>NaN</td>\n",
       "      <td>108.321</td>\n",
       "      <td>108.527</td>\n",
       "      <td>0.893017</td>\n",
       "      <td>49.9644</td>\n",
       "      <td>-4.995140</td>\n",
       "      <td>-1.623360</td>\n",
       "      <td>-3.371780</td>\n",
       "      <td>-4.723150</td>\n",
       "      <td>14.5769</td>\n",
       "      <td>-2.781990</td>\n",
       "      <td>-1.941150</td>\n",
       "      <td>0.1923</td>\n",
       "      <td>0.6154</td>\n",
       "      <td>0.8077</td>\n",
       "      <td>1.1923</td>\n",
       "      <td>0.3462</td>\n",
       "      <td>0.0385</td>\n",
       "      <td>3.8846</td>\n",
       "      <td>7be2aead-da4e-4d13-a74b-4c1e692e2368</td>\n",
       "      <td>0.0</td>\n",
       "    </tr>\n",
       "    <tr>\n",
       "      <th>1</th>\n",
       "      <td>Utah St.</td>\n",
       "      <td>WAC</td>\n",
       "      <td>34</td>\n",
       "      <td>60.9</td>\n",
       "      <td>108.3</td>\n",
       "      <td>14.9</td>\n",
       "      <td>52.4</td>\n",
       "      <td>54.48</td>\n",
       "      <td>3.8</td>\n",
       "      <td>6.3</td>\n",
       "      <td>13.6</td>\n",
       "      <td>19.8</td>\n",
       "      <td>30</td>\n",
       "      <td>45</td>\n",
       "      <td>0.667</td>\n",
       "      <td>56</td>\n",
       "      <td>113</td>\n",
       "      <td>0.496</td>\n",
       "      <td>20</td>\n",
       "      <td>51</td>\n",
       "      <td>0.392</td>\n",
       "      <td>1.0</td>\n",
       "      <td>1.1</td>\n",
       "      <td>27.4</td>\n",
       "      <td>So</td>\n",
       "      <td>4-Jun</td>\n",
       "      <td>NaN</td>\n",
       "      <td>1.334920</td>\n",
       "      <td>100.0660</td>\n",
       "      <td>3.4</td>\n",
       "      <td>2009</td>\n",
       "      <td>all</td>\n",
       "      <td>NaN</td>\n",
       "      <td>1.631621</td>\n",
       "      <td>NaN</td>\n",
       "      <td>NaN</td>\n",
       "      <td>NaN</td>\n",
       "      <td>NaN</td>\n",
       "      <td>NaN</td>\n",
       "      <td>NaN</td>\n",
       "      <td>NaN</td>\n",
       "      <td>NaN</td>\n",
       "      <td>NaN</td>\n",
       "      <td>NaN</td>\n",
       "      <td>105.078</td>\n",
       "      <td>104.017</td>\n",
       "      <td>1.880030</td>\n",
       "      <td>111.9290</td>\n",
       "      <td>0.593024</td>\n",
       "      <td>1.385490</td>\n",
       "      <td>-0.792469</td>\n",
       "      <td>-0.300196</td>\n",
       "      <td>24.5294</td>\n",
       "      <td>-0.052263</td>\n",
       "      <td>-0.247934</td>\n",
       "      <td>0.6765</td>\n",
       "      <td>1.2647</td>\n",
       "      <td>1.9412</td>\n",
       "      <td>1.8235</td>\n",
       "      <td>0.4118</td>\n",
       "      <td>0.2353</td>\n",
       "      <td>5.9412</td>\n",
       "      <td>61de55d9-1582-4ea4-b593-44f6aa6524a6</td>\n",
       "      <td>0.0</td>\n",
       "    </tr>\n",
       "    <tr>\n",
       "      <th>2</th>\n",
       "      <td>South Florida</td>\n",
       "      <td>BE</td>\n",
       "      <td>27</td>\n",
       "      <td>72.0</td>\n",
       "      <td>96.2</td>\n",
       "      <td>21.8</td>\n",
       "      <td>45.7</td>\n",
       "      <td>47.98</td>\n",
       "      <td>2.1</td>\n",
       "      <td>8.0</td>\n",
       "      <td>14.7</td>\n",
       "      <td>15.9</td>\n",
       "      <td>45</td>\n",
       "      <td>67</td>\n",
       "      <td>0.672</td>\n",
       "      <td>67</td>\n",
       "      <td>157</td>\n",
       "      <td>0.427</td>\n",
       "      <td>50</td>\n",
       "      <td>154</td>\n",
       "      <td>0.325</td>\n",
       "      <td>0.0</td>\n",
       "      <td>0.9</td>\n",
       "      <td>21.5</td>\n",
       "      <td>Sr</td>\n",
       "      <td>4-Jun</td>\n",
       "      <td>NaN</td>\n",
       "      <td>2.274070</td>\n",
       "      <td>104.1070</td>\n",
       "      <td>1.7</td>\n",
       "      <td>2009</td>\n",
       "      <td>all</td>\n",
       "      <td>NaN</td>\n",
       "      <td>1.081662</td>\n",
       "      <td>NaN</td>\n",
       "      <td>NaN</td>\n",
       "      <td>NaN</td>\n",
       "      <td>NaN</td>\n",
       "      <td>NaN</td>\n",
       "      <td>NaN</td>\n",
       "      <td>NaN</td>\n",
       "      <td>NaN</td>\n",
       "      <td>NaN</td>\n",
       "      <td>NaN</td>\n",
       "      <td>107.556</td>\n",
       "      <td>102.154</td>\n",
       "      <td>2.763870</td>\n",
       "      <td>115.0210</td>\n",
       "      <td>0.003161</td>\n",
       "      <td>1.024770</td>\n",
       "      <td>-1.021610</td>\n",
       "      <td>0.665065</td>\n",
       "      <td>33.1852</td>\n",
       "      <td>1.548230</td>\n",
       "      <td>-0.883163</td>\n",
       "      <td>0.6296</td>\n",
       "      <td>2.3333</td>\n",
       "      <td>2.9630</td>\n",
       "      <td>1.9630</td>\n",
       "      <td>0.4815</td>\n",
       "      <td>0.0000</td>\n",
       "      <td>12.1852</td>\n",
       "      <td>efdc4cfc-9dd0-4bf8-acef-7273e4d5b655</td>\n",
       "      <td>0.0</td>\n",
       "    </tr>\n",
       "    <tr>\n",
       "      <th>3</th>\n",
       "      <td>Pepperdine</td>\n",
       "      <td>WCC</td>\n",
       "      <td>30</td>\n",
       "      <td>44.5</td>\n",
       "      <td>97.7</td>\n",
       "      <td>16.0</td>\n",
       "      <td>53.6</td>\n",
       "      <td>53.69</td>\n",
       "      <td>4.1</td>\n",
       "      <td>9.4</td>\n",
       "      <td>13.7</td>\n",
       "      <td>23.8</td>\n",
       "      <td>14</td>\n",
       "      <td>27</td>\n",
       "      <td>0.519</td>\n",
       "      <td>25</td>\n",
       "      <td>63</td>\n",
       "      <td>0.397</td>\n",
       "      <td>28</td>\n",
       "      <td>62</td>\n",
       "      <td>0.452</td>\n",
       "      <td>0.8</td>\n",
       "      <td>1.9</td>\n",
       "      <td>21.6</td>\n",
       "      <td>Sr</td>\n",
       "      <td>4-Jun</td>\n",
       "      <td>NaN</td>\n",
       "      <td>0.552857</td>\n",
       "      <td>93.2086</td>\n",
       "      <td>2.0</td>\n",
       "      <td>2009</td>\n",
       "      <td>all</td>\n",
       "      <td>NaN</td>\n",
       "      <td>0.942830</td>\n",
       "      <td>NaN</td>\n",
       "      <td>NaN</td>\n",
       "      <td>NaN</td>\n",
       "      <td>NaN</td>\n",
       "      <td>NaN</td>\n",
       "      <td>NaN</td>\n",
       "      <td>NaN</td>\n",
       "      <td>NaN</td>\n",
       "      <td>NaN</td>\n",
       "      <td>NaN</td>\n",
       "      <td>108.858</td>\n",
       "      <td>106.556</td>\n",
       "      <td>1.218710</td>\n",
       "      <td>84.1698</td>\n",
       "      <td>-0.977798</td>\n",
       "      <td>-0.502574</td>\n",
       "      <td>-0.475224</td>\n",
       "      <td>-0.736233</td>\n",
       "      <td>17.9667</td>\n",
       "      <td>-0.342775</td>\n",
       "      <td>-0.393459</td>\n",
       "      <td>0.7000</td>\n",
       "      <td>1.4333</td>\n",
       "      <td>2.1333</td>\n",
       "      <td>1.1000</td>\n",
       "      <td>0.5667</td>\n",
       "      <td>0.1333</td>\n",
       "      <td>4.9333</td>\n",
       "      <td>14f05660-bb3c-4868-b3dd-09bcdb64279d</td>\n",
       "      <td>0.0</td>\n",
       "    </tr>\n",
       "    <tr>\n",
       "      <th>4</th>\n",
       "      <td>Pacific</td>\n",
       "      <td>BW</td>\n",
       "      <td>33</td>\n",
       "      <td>56.2</td>\n",
       "      <td>96.5</td>\n",
       "      <td>22.0</td>\n",
       "      <td>52.8</td>\n",
       "      <td>54.31</td>\n",
       "      <td>8.3</td>\n",
       "      <td>18.6</td>\n",
       "      <td>8.2</td>\n",
       "      <td>22.7</td>\n",
       "      <td>64</td>\n",
       "      <td>114</td>\n",
       "      <td>0.561</td>\n",
       "      <td>93</td>\n",
       "      <td>176</td>\n",
       "      <td>0.528</td>\n",
       "      <td>0</td>\n",
       "      <td>0</td>\n",
       "      <td>0.000</td>\n",
       "      <td>1.9</td>\n",
       "      <td>1.3</td>\n",
       "      <td>64.8</td>\n",
       "      <td>Sr</td>\n",
       "      <td>8-Jun</td>\n",
       "      <td>NaN</td>\n",
       "      <td>1.060130</td>\n",
       "      <td>97.8554</td>\n",
       "      <td>3.8</td>\n",
       "      <td>2009</td>\n",
       "      <td>all</td>\n",
       "      <td>NaN</td>\n",
       "      <td>0.491229</td>\n",
       "      <td>NaN</td>\n",
       "      <td>NaN</td>\n",
       "      <td>NaN</td>\n",
       "      <td>NaN</td>\n",
       "      <td>NaN</td>\n",
       "      <td>NaN</td>\n",
       "      <td>NaN</td>\n",
       "      <td>NaN</td>\n",
       "      <td>NaN</td>\n",
       "      <td>NaN</td>\n",
       "      <td>101.052</td>\n",
       "      <td>100.724</td>\n",
       "      <td>1.992790</td>\n",
       "      <td>128.0280</td>\n",
       "      <td>-1.836060</td>\n",
       "      <td>-1.946040</td>\n",
       "      <td>0.109983</td>\n",
       "      <td>-2.353180</td>\n",
       "      <td>22.9091</td>\n",
       "      <td>-1.684860</td>\n",
       "      <td>-0.668318</td>\n",
       "      <td>1.4242</td>\n",
       "      <td>3.3030</td>\n",
       "      <td>4.7273</td>\n",
       "      <td>0.8485</td>\n",
       "      <td>0.4545</td>\n",
       "      <td>0.3333</td>\n",
       "      <td>7.5758</td>\n",
       "      <td>a58db52f-fbba-4e7b-83d0-371efcfed039</td>\n",
       "      <td>0.0</td>\n",
       "    </tr>\n",
       "  </tbody>\n",
       "</table>\n",
       "</div>"
      ],
      "text/plain": [
       "            team conf  GP  Min_per   Ortg   usg   eFG  TS_per  ORB_per  \\\n",
       "0  South Alabama   SB  26     29.5   97.3  16.6  42.5   44.43      1.6   \n",
       "1       Utah St.  WAC  34     60.9  108.3  14.9  52.4   54.48      3.8   \n",
       "2  South Florida   BE  27     72.0   96.2  21.8  45.7   47.98      2.1   \n",
       "3     Pepperdine  WCC  30     44.5   97.7  16.0  53.6   53.69      4.1   \n",
       "4        Pacific   BW  33     56.2   96.5  22.0  52.8   54.31      8.3   \n",
       "\n",
       "   DRB_per  AST_per  TO_per  FTM  FTA  FT_per  twoPM  twoPA  twoP_per  TPM  \\\n",
       "0      4.6     15.8    16.3   10   14   0.714     26     68     0.382   13   \n",
       "1      6.3     13.6    19.8   30   45   0.667     56    113     0.496   20   \n",
       "2      8.0     14.7    15.9   45   67   0.672     67    157     0.427   50   \n",
       "3      9.4     13.7    23.8   14   27   0.519     25     63     0.397   28   \n",
       "4     18.6      8.2    22.7   64  114   0.561     93    176     0.528    0   \n",
       "\n",
       "   TPA  TP_per  blk_per  stl_per   ftr  yr     ht  num    porpag     adjoe  \\\n",
       "0   39   0.333      0.3      1.5  13.1  So  2-Jun  NaN  0.258086   89.3938   \n",
       "1   51   0.392      1.0      1.1  27.4  So  4-Jun  NaN  1.334920  100.0660   \n",
       "2  154   0.325      0.0      0.9  21.5  Sr  4-Jun  NaN  2.274070  104.1070   \n",
       "3   62   0.452      0.8      1.9  21.6  Sr  4-Jun  NaN  0.552857   93.2086   \n",
       "4    0   0.000      1.9      1.3  64.8  Sr  8-Jun  NaN  1.060130   97.8554   \n",
       "\n",
       "   pfr  year type  Rec_Rank   ast_tov  rimmade  rimmade_rimmiss  midmade  \\\n",
       "0  2.5  2009  all       NaN  1.823646      NaN              NaN      NaN   \n",
       "1  3.4  2009  all       NaN  1.631621      NaN              NaN      NaN   \n",
       "2  1.7  2009  all       NaN  1.081662      NaN              NaN      NaN   \n",
       "3  2.0  2009  all       NaN  0.942830      NaN              NaN      NaN   \n",
       "4  3.8  2009  all       NaN  0.491229      NaN              NaN      NaN   \n",
       "\n",
       "   midmade_midmiss  rim_ratio  mid_ratio  dunksmade  dunksmiss_dunksmade  \\\n",
       "0              NaN        NaN        NaN        NaN                  NaN   \n",
       "1              NaN        NaN        NaN        NaN                  NaN   \n",
       "2              NaN        NaN        NaN        NaN                  NaN   \n",
       "3              NaN        NaN        NaN        NaN                  NaN   \n",
       "4              NaN        NaN        NaN        NaN                  NaN   \n",
       "\n",
       "   dunks_ratio  pick     drtg    adrtg   dporpag     stops       bpm  \\\n",
       "0          NaN   NaN  108.321  108.527  0.893017   49.9644 -4.995140   \n",
       "1          NaN   NaN  105.078  104.017  1.880030  111.9290  0.593024   \n",
       "2          NaN   NaN  107.556  102.154  2.763870  115.0210  0.003161   \n",
       "3          NaN   NaN  108.858  106.556  1.218710   84.1698 -0.977798   \n",
       "4          NaN   NaN  101.052  100.724  1.992790  128.0280 -1.836060   \n",
       "\n",
       "       obpm      dbpm      gbpm       mp     ogbpm     dgbpm    oreb    dreb  \\\n",
       "0 -1.623360 -3.371780 -4.723150  14.5769 -2.781990 -1.941150  0.1923  0.6154   \n",
       "1  1.385490 -0.792469 -0.300196  24.5294 -0.052263 -0.247934  0.6765  1.2647   \n",
       "2  1.024770 -1.021610  0.665065  33.1852  1.548230 -0.883163  0.6296  2.3333   \n",
       "3 -0.502574 -0.475224 -0.736233  17.9667 -0.342775 -0.393459  0.7000  1.4333   \n",
       "4 -1.946040  0.109983 -2.353180  22.9091 -1.684860 -0.668318  1.4242  3.3030   \n",
       "\n",
       "     treb     ast     stl     blk      pts  \\\n",
       "0  0.8077  1.1923  0.3462  0.0385   3.8846   \n",
       "1  1.9412  1.8235  0.4118  0.2353   5.9412   \n",
       "2  2.9630  1.9630  0.4815  0.0000  12.1852   \n",
       "3  2.1333  1.1000  0.5667  0.1333   4.9333   \n",
       "4  4.7273  0.8485  0.4545  0.3333   7.5758   \n",
       "\n",
       "                              player_id  drafted  \n",
       "0  7be2aead-da4e-4d13-a74b-4c1e692e2368      0.0  \n",
       "1  61de55d9-1582-4ea4-b593-44f6aa6524a6      0.0  \n",
       "2  efdc4cfc-9dd0-4bf8-acef-7273e4d5b655      0.0  \n",
       "3  14f05660-bb3c-4868-b3dd-09bcdb64279d      0.0  \n",
       "4  a58db52f-fbba-4e7b-83d0-371efcfed039      0.0  "
      ]
     },
     "execution_count": 130,
     "metadata": {},
     "output_type": "execute_result"
    }
   ],
   "source": [
    "df_train.head(5)"
   ]
  },
  {
   "cell_type": "markdown",
   "id": "8e80f8e3",
   "metadata": {},
   "source": [
    "Analyse the dataset and its features. This will help to understand which features we need to select for the model."
   ]
  },
  {
   "cell_type": "code",
   "execution_count": 131,
   "id": "acc3dc8d",
   "metadata": {},
   "outputs": [
    {
     "name": "stdout",
     "output_type": "stream",
     "text": [
      "(56091, 64)\n",
      "(4970, 63)\n"
     ]
    }
   ],
   "source": [
    "print(df_train.shape)\n",
    "print(df_test.shape)"
   ]
  },
  {
   "cell_type": "code",
   "execution_count": 132,
   "id": "70d87b5d",
   "metadata": {},
   "outputs": [
    {
     "data": {
      "text/plain": [
       "team                    object\n",
       "conf                    object\n",
       "GP                       int64\n",
       "Min_per                float64\n",
       "Ortg                   float64\n",
       "usg                    float64\n",
       "eFG                    float64\n",
       "TS_per                 float64\n",
       "ORB_per                float64\n",
       "DRB_per                float64\n",
       "AST_per                float64\n",
       "TO_per                 float64\n",
       "FTM                      int64\n",
       "FTA                      int64\n",
       "FT_per                 float64\n",
       "twoPM                    int64\n",
       "twoPA                    int64\n",
       "twoP_per               float64\n",
       "TPM                      int64\n",
       "TPA                      int64\n",
       "TP_per                 float64\n",
       "blk_per                float64\n",
       "stl_per                float64\n",
       "ftr                    float64\n",
       "yr                      object\n",
       "ht                      object\n",
       "num                     object\n",
       "porpag                 float64\n",
       "adjoe                  float64\n",
       "pfr                    float64\n",
       "year                     int64\n",
       "type                    object\n",
       "Rec_Rank               float64\n",
       "ast_tov                float64\n",
       "rimmade                float64\n",
       "rimmade_rimmiss        float64\n",
       "midmade                float64\n",
       "midmade_midmiss        float64\n",
       "rim_ratio              float64\n",
       "mid_ratio              float64\n",
       "dunksmade              float64\n",
       "dunksmiss_dunksmade    float64\n",
       "dunks_ratio            float64\n",
       "pick                   float64\n",
       "drtg                   float64\n",
       "adrtg                  float64\n",
       "dporpag                float64\n",
       "stops                  float64\n",
       "bpm                    float64\n",
       "obpm                   float64\n",
       "dbpm                   float64\n",
       "gbpm                   float64\n",
       "mp                     float64\n",
       "ogbpm                  float64\n",
       "dgbpm                  float64\n",
       "oreb                   float64\n",
       "dreb                   float64\n",
       "treb                   float64\n",
       "ast                    float64\n",
       "stl                    float64\n",
       "blk                    float64\n",
       "pts                    float64\n",
       "player_id               object\n",
       "drafted                float64\n",
       "dtype: object"
      ]
     },
     "execution_count": 132,
     "metadata": {},
     "output_type": "execute_result"
    }
   ],
   "source": [
    "df_train.dtypes"
   ]
  },
  {
   "cell_type": "markdown",
   "id": "19675a72",
   "metadata": {},
   "source": [
    "Replace the None object values to NA for the missing data treatment."
   ]
  },
  {
   "cell_type": "code",
   "execution_count": 133,
   "id": "42cc7b2d",
   "metadata": {},
   "outputs": [],
   "source": [
    "df_train = df_train.replace('None', pd.NA)\n",
    "df_test = df_test.replace('None', pd.NA)"
   ]
  },
  {
   "cell_type": "markdown",
   "id": "54e0932e",
   "metadata": {},
   "source": [
    "Check the missing data features with the count of missing data values. This will help to understand which columns needs to be treated for missing data."
   ]
  },
  {
   "cell_type": "code",
   "execution_count": 143,
   "id": "2d0f2fdf",
   "metadata": {},
   "outputs": [
    {
     "data": {
      "text/plain": [
       "GP                 0\n",
       "Min_per            0\n",
       "Ortg               0\n",
       "usg                0\n",
       "eFG                0\n",
       "TS_per             0\n",
       "ORB_per            0\n",
       "DRB_per            0\n",
       "AST_per            0\n",
       "TO_per             0\n",
       "FTM                0\n",
       "FTA                0\n",
       "FT_per             0\n",
       "twoPM              0\n",
       "twoPA              0\n",
       "twoP_per           0\n",
       "TPM                0\n",
       "TPA                0\n",
       "TP_per             0\n",
       "blk_per            0\n",
       "stl_per            0\n",
       "ftr                0\n",
       "porpag             0\n",
       "adjoe              0\n",
       "pfr                0\n",
       "year               0\n",
       "ast_tov            0\n",
       "rimmade            0\n",
       "rimmade_rimmiss    0\n",
       "midmade            0\n",
       "midmade_midmiss    0\n",
       "rim_ratio          0\n",
       "mid_ratio          0\n",
       "drtg               0\n",
       "adrtg              0\n",
       "dporpag            0\n",
       "stops              0\n",
       "bpm                0\n",
       "obpm               0\n",
       "dbpm               0\n",
       "gbpm               0\n",
       "mp                 0\n",
       "ogbpm              0\n",
       "dgbpm              0\n",
       "oreb               0\n",
       "dreb               0\n",
       "treb               0\n",
       "ast                0\n",
       "stl                0\n",
       "blk                0\n",
       "pts                0\n",
       "player_id          0\n",
       "drafted            0\n",
       "dtype: int64"
      ]
     },
     "execution_count": 143,
     "metadata": {},
     "output_type": "execute_result"
    }
   ],
   "source": [
    "df_train.isna().sum()"
   ]
  },
  {
   "cell_type": "code",
   "execution_count": 135,
   "id": "726cd430",
   "metadata": {},
   "outputs": [],
   "source": [
    "cols_to_drop = ['Rec_Rank', 'dunksmade', 'dunksmiss_dunksmade', 'dunks_ratio', 'pick', 'team', 'conf', 'yr', 'ht', 'type', 'num']"
   ]
  },
  {
   "cell_type": "markdown",
   "id": "20deb2ca",
   "metadata": {},
   "source": [
    "Now, for the preprocessing and feature selection, I have dropped some of the irrelevant features.\n",
    "\n",
    "**yr** - student year of study. AS we are comparing the matches and goals, so year of study is not needed for analysis.\n",
    "\n",
    "**ht** - height of student. Height of student does not matters to analyse its performance.\n",
    "\n",
    "**Rec_Rank** - majority of the data is NAN so we can drop this feature as it is containing barely any information.\n",
    "\n",
    "**dunks_ratio** - again, majority of the data is NAN, so have dropped and its corresponding columns.\n",
    "\n",
    "Some other columns have dropped based on the missing data and feature irrelevant for the target variable."
   ]
  },
  {
   "cell_type": "code",
   "execution_count": 136,
   "id": "ff47b2e9",
   "metadata": {},
   "outputs": [],
   "source": [
    "df_train = df_train.drop(df_train.columns.intersection(cols_to_drop), axis=1)\n",
    "df_test = df_test.drop(df_test.columns.intersection(cols_to_drop), axis=1)"
   ]
  },
  {
   "cell_type": "markdown",
   "id": "ded17f86",
   "metadata": {},
   "source": [
    "Now, check the missing data columns in the assending order which needs to get a treatment."
   ]
  },
  {
   "cell_type": "code",
   "execution_count": 138,
   "id": "4b0b6ce7",
   "metadata": {},
   "outputs": [],
   "source": [
    "missing_data_train = df_train.isna().sum().sort_values(ascending=False)\n",
    "missing_data_test = df_test.isna().sum().sort_values(ascending=False)"
   ]
  },
  {
   "cell_type": "code",
   "execution_count": 139,
   "id": "7aff8727",
   "metadata": {},
   "outputs": [
    {
     "data": {
      "text/plain": [
       "mid_ratio          9688\n",
       "rim_ratio          9464\n",
       "rimmade_rimmiss    6081\n",
       "rimmade            6081\n",
       "midmade            6081\n",
       "midmade_midmiss    6081\n",
       "ast_tov            4190\n",
       "bpm                  44\n",
       "dbpm                 44\n",
       "drtg                 44\n",
       "adrtg                44\n",
       "dporpag              44\n",
       "stops                44\n",
       "obpm                 44\n",
       "gbpm                 44\n",
       "ogbpm                44\n",
       "dgbpm                44\n",
       "ast                  38\n",
       "dreb                 38\n",
       "mp                   38\n",
       "oreb                 38\n",
       "stl                  38\n",
       "blk                  38\n",
       "pts                  38\n",
       "treb                 38\n",
       "player_id             0\n",
       "GP                    0\n",
       "Min_per               0\n",
       "year                  0\n",
       "Ortg                  0\n",
       "usg                   0\n",
       "eFG                   0\n",
       "TS_per                0\n",
       "ORB_per               0\n",
       "DRB_per               0\n",
       "AST_per               0\n",
       "TO_per                0\n",
       "FTM                   0\n",
       "FTA                   0\n",
       "FT_per                0\n",
       "twoPM                 0\n",
       "twoPA                 0\n",
       "twoP_per              0\n",
       "TPM                   0\n",
       "TPA                   0\n",
       "TP_per                0\n",
       "blk_per               0\n",
       "stl_per               0\n",
       "ftr                   0\n",
       "porpag                0\n",
       "adjoe                 0\n",
       "pfr                   0\n",
       "drafted               0\n",
       "dtype: int64"
      ]
     },
     "execution_count": 139,
     "metadata": {},
     "output_type": "execute_result"
    }
   ],
   "source": [
    "missing_data_train"
   ]
  },
  {
   "cell_type": "markdown",
   "id": "aa605df5",
   "metadata": {},
   "source": [
    "For the missing values, I have replaced the missing values to mean of the feature."
   ]
  },
  {
   "cell_type": "code",
   "execution_count": 140,
   "id": "bc220337",
   "metadata": {},
   "outputs": [],
   "source": [
    "def remove_missing_data(col, df):\n",
    "    df[col] = df[col].fillna(df[col].mean())\n",
    "    return df"
   ]
  },
  {
   "cell_type": "code",
   "execution_count": 141,
   "id": "c38ff78d",
   "metadata": {},
   "outputs": [],
   "source": [
    "def missing_data_treatment(missing_data, df):\n",
    "    i = 0\n",
    "    while missing_data.values[i] > 0:\n",
    "        df = remove_missing_data(missing_data.keys()[i], df)\n",
    "        i += 1\n",
    "    return df"
   ]
  },
  {
   "cell_type": "code",
   "execution_count": 142,
   "id": "de864066",
   "metadata": {},
   "outputs": [],
   "source": [
    "df_train = missing_data_treatment(missing_data_train, df_train)\n",
    "df_test = missing_data_treatment(missing_data_train, df_test)"
   ]
  },
  {
   "cell_type": "code",
   "execution_count": 144,
   "id": "91f753c9",
   "metadata": {},
   "outputs": [
    {
     "name": "stdout",
     "output_type": "stream",
     "text": [
      "(56091, 53)\n",
      "(4970, 52)\n"
     ]
    }
   ],
   "source": [
    "print(df_train.shape)\n",
    "print(df_test.shape)"
   ]
  },
  {
   "cell_type": "markdown",
   "id": "b432ecff",
   "metadata": {},
   "source": [
    "Seperate the X and Y train dataset and spilt the train dataset into train and test."
   ]
  },
  {
   "cell_type": "code",
   "execution_count": 145,
   "id": "6afc68dc",
   "metadata": {},
   "outputs": [],
   "source": [
    "df_X_train = df_train.drop('drafted', axis='columns')"
   ]
  },
  {
   "cell_type": "code",
   "execution_count": 146,
   "id": "60387534",
   "metadata": {},
   "outputs": [],
   "source": [
    "df_Y_train = df_train.drafted"
   ]
  },
  {
   "cell_type": "markdown",
   "id": "a3a99935",
   "metadata": {},
   "source": [
    "As the player_id is in the form of string, Using the LabelEncoder to transform the player_id into numeric."
   ]
  },
  {
   "cell_type": "code",
   "execution_count": 147,
   "id": "ccff9bd0",
   "metadata": {},
   "outputs": [],
   "source": [
    "from sklearn.preprocessing import LabelEncoder\n",
    "le_player_id = LabelEncoder()"
   ]
  },
  {
   "cell_type": "code",
   "execution_count": 148,
   "id": "db4e7fb8",
   "metadata": {},
   "outputs": [],
   "source": [
    "df_X_train['le_player_id'] = le_player_id.fit_transform(df_X_train['player_id'])\n",
    "df_test['le_player_id'] = le_player_id.fit_transform(df_test['player_id'])"
   ]
  },
  {
   "cell_type": "code",
   "execution_count": 149,
   "id": "db464d4e",
   "metadata": {},
   "outputs": [],
   "source": [
    "df_player_id_train = df_X_train.player_id\n",
    "df_player_id_test = df_test.player_id\n",
    "df_X_train = df_X_train.drop(['player_id'], axis='columns')\n",
    "df_test = df_test.drop(['player_id'], axis='columns')"
   ]
  },
  {
   "cell_type": "code",
   "execution_count": 150,
   "id": "5044cc67",
   "metadata": {},
   "outputs": [
    {
     "data": {
      "text/plain": [
       "0"
      ]
     },
     "execution_count": 150,
     "metadata": {},
     "output_type": "execute_result"
    }
   ],
   "source": [
    "df_Y_train.isna().sum()"
   ]
  },
  {
   "cell_type": "markdown",
   "id": "d52e11c5",
   "metadata": {},
   "source": [
    "By using train_test_split, divide the train data into train-test dataset."
   ]
  },
  {
   "cell_type": "code",
   "execution_count": 151,
   "id": "bdb946d5",
   "metadata": {},
   "outputs": [
    {
     "data": {
      "text/plain": [
       "(11219, 52)"
      ]
     },
     "execution_count": 151,
     "metadata": {},
     "output_type": "execute_result"
    }
   ],
   "source": [
    "from sklearn.model_selection import train_test_split\n",
    "X_train, X_test, Y_train, Y_test = train_test_split(df_X_train, df_Y_train, train_size=0.8)\n",
    "X_test.shape"
   ]
  },
  {
   "cell_type": "markdown",
   "id": "397fbab2",
   "metadata": {},
   "source": [
    "Now, use the RandomForestClassifier for the data modelling with n_estimator as 100."
   ]
  },
  {
   "cell_type": "code",
   "execution_count": 154,
   "id": "10d9aeff",
   "metadata": {},
   "outputs": [],
   "source": [
    "from sklearn.ensemble import RandomForestClassifier\n",
    "model = RandomForestClassifier(n_estimators=100)"
   ]
  },
  {
   "cell_type": "code",
   "execution_count": 155,
   "id": "b5f65127",
   "metadata": {},
   "outputs": [
    {
     "data": {
      "text/html": [
       "<style>#sk-container-id-3 {color: black;background-color: white;}#sk-container-id-3 pre{padding: 0;}#sk-container-id-3 div.sk-toggleable {background-color: white;}#sk-container-id-3 label.sk-toggleable__label {cursor: pointer;display: block;width: 100%;margin-bottom: 0;padding: 0.3em;box-sizing: border-box;text-align: center;}#sk-container-id-3 label.sk-toggleable__label-arrow:before {content: \"▸\";float: left;margin-right: 0.25em;color: #696969;}#sk-container-id-3 label.sk-toggleable__label-arrow:hover:before {color: black;}#sk-container-id-3 div.sk-estimator:hover label.sk-toggleable__label-arrow:before {color: black;}#sk-container-id-3 div.sk-toggleable__content {max-height: 0;max-width: 0;overflow: hidden;text-align: left;background-color: #f0f8ff;}#sk-container-id-3 div.sk-toggleable__content pre {margin: 0.2em;color: black;border-radius: 0.25em;background-color: #f0f8ff;}#sk-container-id-3 input.sk-toggleable__control:checked~div.sk-toggleable__content {max-height: 200px;max-width: 100%;overflow: auto;}#sk-container-id-3 input.sk-toggleable__control:checked~label.sk-toggleable__label-arrow:before {content: \"▾\";}#sk-container-id-3 div.sk-estimator input.sk-toggleable__control:checked~label.sk-toggleable__label {background-color: #d4ebff;}#sk-container-id-3 div.sk-label input.sk-toggleable__control:checked~label.sk-toggleable__label {background-color: #d4ebff;}#sk-container-id-3 input.sk-hidden--visually {border: 0;clip: rect(1px 1px 1px 1px);clip: rect(1px, 1px, 1px, 1px);height: 1px;margin: -1px;overflow: hidden;padding: 0;position: absolute;width: 1px;}#sk-container-id-3 div.sk-estimator {font-family: monospace;background-color: #f0f8ff;border: 1px dotted black;border-radius: 0.25em;box-sizing: border-box;margin-bottom: 0.5em;}#sk-container-id-3 div.sk-estimator:hover {background-color: #d4ebff;}#sk-container-id-3 div.sk-parallel-item::after {content: \"\";width: 100%;border-bottom: 1px solid gray;flex-grow: 1;}#sk-container-id-3 div.sk-label:hover label.sk-toggleable__label {background-color: #d4ebff;}#sk-container-id-3 div.sk-serial::before {content: \"\";position: absolute;border-left: 1px solid gray;box-sizing: border-box;top: 0;bottom: 0;left: 50%;z-index: 0;}#sk-container-id-3 div.sk-serial {display: flex;flex-direction: column;align-items: center;background-color: white;padding-right: 0.2em;padding-left: 0.2em;position: relative;}#sk-container-id-3 div.sk-item {position: relative;z-index: 1;}#sk-container-id-3 div.sk-parallel {display: flex;align-items: stretch;justify-content: center;background-color: white;position: relative;}#sk-container-id-3 div.sk-item::before, #sk-container-id-3 div.sk-parallel-item::before {content: \"\";position: absolute;border-left: 1px solid gray;box-sizing: border-box;top: 0;bottom: 0;left: 50%;z-index: -1;}#sk-container-id-3 div.sk-parallel-item {display: flex;flex-direction: column;z-index: 1;position: relative;background-color: white;}#sk-container-id-3 div.sk-parallel-item:first-child::after {align-self: flex-end;width: 50%;}#sk-container-id-3 div.sk-parallel-item:last-child::after {align-self: flex-start;width: 50%;}#sk-container-id-3 div.sk-parallel-item:only-child::after {width: 0;}#sk-container-id-3 div.sk-dashed-wrapped {border: 1px dashed gray;margin: 0 0.4em 0.5em 0.4em;box-sizing: border-box;padding-bottom: 0.4em;background-color: white;}#sk-container-id-3 div.sk-label label {font-family: monospace;font-weight: bold;display: inline-block;line-height: 1.2em;}#sk-container-id-3 div.sk-label-container {text-align: center;}#sk-container-id-3 div.sk-container {/* jupyter's `normalize.less` sets `[hidden] { display: none; }` but bootstrap.min.css set `[hidden] { display: none !important; }` so we also need the `!important` here to be able to override the default hidden behavior on the sphinx rendered scikit-learn.org. See: https://github.com/scikit-learn/scikit-learn/issues/21755 */display: inline-block !important;position: relative;}#sk-container-id-3 div.sk-text-repr-fallback {display: none;}</style><div id=\"sk-container-id-3\" class=\"sk-top-container\"><div class=\"sk-text-repr-fallback\"><pre>RandomForestClassifier()</pre><b>In a Jupyter environment, please rerun this cell to show the HTML representation or trust the notebook. <br />On GitHub, the HTML representation is unable to render, please try loading this page with nbviewer.org.</b></div><div class=\"sk-container\" hidden><div class=\"sk-item\"><div class=\"sk-estimator sk-toggleable\"><input class=\"sk-toggleable__control sk-hidden--visually\" id=\"sk-estimator-id-3\" type=\"checkbox\" checked><label for=\"sk-estimator-id-3\" class=\"sk-toggleable__label sk-toggleable__label-arrow\">RandomForestClassifier</label><div class=\"sk-toggleable__content\"><pre>RandomForestClassifier()</pre></div></div></div></div></div>"
      ],
      "text/plain": [
       "RandomForestClassifier()"
      ]
     },
     "execution_count": 155,
     "metadata": {},
     "output_type": "execute_result"
    }
   ],
   "source": [
    "model.fit(X_train, Y_train)"
   ]
  },
  {
   "cell_type": "code",
   "execution_count": 156,
   "id": "f7cc1e7c",
   "metadata": {},
   "outputs": [],
   "source": [
    "y_pred = model.predict_proba(X_test)"
   ]
  },
  {
   "cell_type": "code",
   "execution_count": 157,
   "id": "94225c9d",
   "metadata": {},
   "outputs": [],
   "source": [
    "predicted = model.predict(X_test)"
   ]
  },
  {
   "cell_type": "code",
   "execution_count": 158,
   "id": "7b5a47cc",
   "metadata": {},
   "outputs": [],
   "source": [
    "import numpy as np\n",
    "np.set_printoptions(formatter={'float_kind':'{:f}'.format})\n",
    "#pd.reset_option('display.float_format')\n",
    "#y_pred.apply(lambda x: '%.5f' % x, axis=1)"
   ]
  },
  {
   "cell_type": "code",
   "execution_count": 159,
   "id": "dd18f2b0",
   "metadata": {},
   "outputs": [
    {
     "data": {
      "text/plain": [
       "array([[1.000000, 0.000000],\n",
       "       [0.780000, 0.220000],\n",
       "       [0.990000, 0.010000],\n",
       "       ...,\n",
       "       [1.000000, 0.000000],\n",
       "       [1.000000, 0.000000],\n",
       "       [1.000000, 0.000000]])"
      ]
     },
     "execution_count": 159,
     "metadata": {},
     "output_type": "execute_result"
    }
   ],
   "source": [
    "y_pred"
   ]
  },
  {
   "cell_type": "markdown",
   "id": "f042bce3",
   "metadata": {},
   "source": [
    "Check the model performance on the test data of train-test split technique."
   ]
  },
  {
   "cell_type": "code",
   "execution_count": 160,
   "id": "b76dd585",
   "metadata": {},
   "outputs": [
    {
     "data": {
      "text/plain": [
       "0.9914430876192174"
      ]
     },
     "execution_count": 160,
     "metadata": {},
     "output_type": "execute_result"
    }
   ],
   "source": [
    "model.score(X_test, Y_test)"
   ]
  },
  {
   "cell_type": "code",
   "execution_count": 161,
   "id": "43e6c3aa",
   "metadata": {},
   "outputs": [
    {
     "name": "stderr",
     "output_type": "stream",
     "text": [
      "D:\\Tarun\\Anaconda3\\lib\\site-packages\\sklearn\\linear_model\\_logistic.py:458: ConvergenceWarning: lbfgs failed to converge (status=1):\n",
      "STOP: TOTAL NO. of ITERATIONS REACHED LIMIT.\n",
      "\n",
      "Increase the number of iterations (max_iter) or scale the data as shown in:\n",
      "    https://scikit-learn.org/stable/modules/preprocessing.html\n",
      "Please also refer to the documentation for alternative solver options:\n",
      "    https://scikit-learn.org/stable/modules/linear_model.html#logistic-regression\n",
      "  n_iter_i = _check_optimize_result(\n",
      "D:\\Tarun\\Anaconda3\\lib\\site-packages\\sklearn\\linear_model\\_logistic.py:458: ConvergenceWarning: lbfgs failed to converge (status=1):\n",
      "STOP: TOTAL NO. of ITERATIONS REACHED LIMIT.\n",
      "\n",
      "Increase the number of iterations (max_iter) or scale the data as shown in:\n",
      "    https://scikit-learn.org/stable/modules/preprocessing.html\n",
      "Please also refer to the documentation for alternative solver options:\n",
      "    https://scikit-learn.org/stable/modules/linear_model.html#logistic-regression\n",
      "  n_iter_i = _check_optimize_result(\n",
      "D:\\Tarun\\Anaconda3\\lib\\site-packages\\sklearn\\linear_model\\_logistic.py:458: ConvergenceWarning: lbfgs failed to converge (status=1):\n",
      "STOP: TOTAL NO. of ITERATIONS REACHED LIMIT.\n",
      "\n",
      "Increase the number of iterations (max_iter) or scale the data as shown in:\n",
      "    https://scikit-learn.org/stable/modules/preprocessing.html\n",
      "Please also refer to the documentation for alternative solver options:\n",
      "    https://scikit-learn.org/stable/modules/linear_model.html#logistic-regression\n",
      "  n_iter_i = _check_optimize_result(\n",
      "D:\\Tarun\\Anaconda3\\lib\\site-packages\\sklearn\\linear_model\\_logistic.py:458: ConvergenceWarning: lbfgs failed to converge (status=1):\n",
      "STOP: TOTAL NO. of ITERATIONS REACHED LIMIT.\n",
      "\n",
      "Increase the number of iterations (max_iter) or scale the data as shown in:\n",
      "    https://scikit-learn.org/stable/modules/preprocessing.html\n",
      "Please also refer to the documentation for alternative solver options:\n",
      "    https://scikit-learn.org/stable/modules/linear_model.html#logistic-regression\n",
      "  n_iter_i = _check_optimize_result(\n"
     ]
    },
    {
     "name": "stdout",
     "output_type": "stream",
     "text": [
      "cross val score - Logistic Regression -  [0.990908 0.991086 0.990640 0.990729 0.990462]\n"
     ]
    },
    {
     "name": "stderr",
     "output_type": "stream",
     "text": [
      "D:\\Tarun\\Anaconda3\\lib\\site-packages\\sklearn\\linear_model\\_logistic.py:458: ConvergenceWarning: lbfgs failed to converge (status=1):\n",
      "STOP: TOTAL NO. of ITERATIONS REACHED LIMIT.\n",
      "\n",
      "Increase the number of iterations (max_iter) or scale the data as shown in:\n",
      "    https://scikit-learn.org/stable/modules/preprocessing.html\n",
      "Please also refer to the documentation for alternative solver options:\n",
      "    https://scikit-learn.org/stable/modules/linear_model.html#logistic-regression\n",
      "  n_iter_i = _check_optimize_result(\n"
     ]
    }
   ],
   "source": [
    "from sklearn.model_selection import cross_val_score\n",
    "print(\"cross val score - Logistic Regression - \",\n",
    "          cross_val_score(LogisticRegression(C=10), df_X_train, df_Y_train, cv = 5))"
   ]
  },
  {
   "cell_type": "markdown",
   "id": "591e1b1c",
   "metadata": {},
   "source": [
    "To measure the accuracy of model, perform the MSE and MAE with the predicted variable and target variable."
   ]
  },
  {
   "cell_type": "code",
   "execution_count": 162,
   "id": "eb33471c",
   "metadata": {},
   "outputs": [],
   "source": [
    "from sklearn.metrics import (\n",
    "    mean_absolute_error, # MAE\n",
    "    mean_squared_error # MSE\n",
    ")"
   ]
  },
  {
   "cell_type": "code",
   "execution_count": 163,
   "id": "33026eee",
   "metadata": {},
   "outputs": [
    {
     "data": {
      "text/plain": [
       "0.01"
      ]
     },
     "execution_count": 163,
     "metadata": {},
     "output_type": "execute_result"
    }
   ],
   "source": [
    "MAE = mean_absolute_error(\n",
    "    y_true=Y_test, # actual values\n",
    "    y_pred=predicted # predicted values\n",
    ")\n",
    "MAE.round(2)"
   ]
  },
  {
   "cell_type": "code",
   "execution_count": 164,
   "id": "c9d15146",
   "metadata": {},
   "outputs": [
    {
     "data": {
      "text/plain": [
       "0.01"
      ]
     },
     "execution_count": 164,
     "metadata": {},
     "output_type": "execute_result"
    }
   ],
   "source": [
    "MSE = mean_squared_error(\n",
    "    y_true=Y_test, # actual values\n",
    "    y_pred=predicted # predicted values\n",
    ")\n",
    "MSE.round(2)"
   ]
  },
  {
   "cell_type": "markdown",
   "id": "01d167cd",
   "metadata": {},
   "source": [
    "Draw the confusion matrix of predicted value and the actual value."
   ]
  },
  {
   "cell_type": "code",
   "execution_count": 165,
   "id": "c9c08a6a",
   "metadata": {},
   "outputs": [],
   "source": [
    "from sklearn.metrics import confusion_matrix"
   ]
  },
  {
   "cell_type": "code",
   "execution_count": 166,
   "id": "65d3c1bb",
   "metadata": {},
   "outputs": [
    {
     "data": {
      "text/plain": [
       "array([[11102,    11],\n",
       "       [   85,    21]], dtype=int64)"
      ]
     },
     "execution_count": 166,
     "metadata": {},
     "output_type": "execute_result"
    }
   ],
   "source": [
    "cm = confusion_matrix(Y_test, predicted)\n",
    "cm"
   ]
  },
  {
   "cell_type": "code",
   "execution_count": 167,
   "id": "f31421dc",
   "metadata": {},
   "outputs": [
    {
     "data": {
      "image/png": "[encoded data removed]",
      "text/plain": [
       "<Figure size 1000x700 with 2 Axes>"
      ]
     },
     "metadata": {},
     "output_type": "display_data"
    }
   ],
   "source": [
    "from matplotlib import pyplot as plt\n",
    "import seaborn as sb\n",
    "plt.figure(figsize=(10, 7))\n",
    "sb.heatmap(cm,annot=True,fmt='g')\n",
    "# sb.heatmap(cm, annot=True)\n",
    "plt.xlabel('Predicted')\n",
    "plt.ylabel('Truth')\n",
    "plt.show()"
   ]
  },
  {
   "cell_type": "markdown",
   "id": "e2c6fc7b",
   "metadata": {},
   "source": [
    "Now, draw AUROC curve to check the performance of the model."
   ]
  },
  {
   "cell_type": "code",
   "execution_count": 168,
   "id": "1fcc5d0e",
   "metadata": {},
   "outputs": [],
   "source": [
    "from sklearn.metrics import roc_curve"
   ]
  },
  {
   "cell_type": "code",
   "execution_count": 169,
   "id": "555aacbb",
   "metadata": {},
   "outputs": [],
   "source": [
    "fpr, tpr, thresh = roc_curve(Y_test, y_pred[:,1], pos_label=1)"
   ]
  },
  {
   "cell_type": "code",
   "execution_count": 170,
   "id": "5bad3013",
   "metadata": {},
   "outputs": [],
   "source": [
    "random_probs = [0 for i in range(len(Y_test))]\n",
    "p_fpr, p_tpr, _ = roc_curve(Y_test, random_probs, pos_label=1)"
   ]
  },
  {
   "cell_type": "code",
   "execution_count": 171,
   "id": "cd561601",
   "metadata": {},
   "outputs": [],
   "source": [
    "from sklearn.metrics import roc_auc_score"
   ]
  },
  {
   "cell_type": "code",
   "execution_count": 172,
   "id": "01e07e12",
   "metadata": {},
   "outputs": [],
   "source": [
    "auc_score = roc_auc_score(Y_test, y_pred[:,1])"
   ]
  },
  {
   "cell_type": "code",
   "execution_count": 173,
   "id": "a255807c",
   "metadata": {},
   "outputs": [
    {
     "name": "stdout",
     "output_type": "stream",
     "text": [
      "0.9706645624960738\n"
     ]
    }
   ],
   "source": [
    "print(auc_score)"
   ]
  },
  {
   "cell_type": "code",
   "execution_count": 174,
   "id": "c4dc7dad",
   "metadata": {},
   "outputs": [
    {
     "name": "stderr",
     "output_type": "stream",
     "text": [
      "D:\\Tarun\\TemporaryFiles\\ipykernel_14820\\4098886997.py:2: MatplotlibDeprecationWarning: The seaborn styles shipped by Matplotlib are deprecated since 3.6, as they no longer correspond to the styles shipped by seaborn. However, they will remain available as 'seaborn-v0_8-<style>'. Alternatively, directly use the seaborn API instead.\n",
      "  plt.style.use('seaborn')\n"
     ]
    }
   ],
   "source": [
    "import matplotlib.pyplot as plt\n",
    "plt.style.use('seaborn')"
   ]
  },
  {
   "cell_type": "code",
   "execution_count": 175,
   "id": "f6e00fd8",
   "metadata": {},
   "outputs": [
    {
     "data": {
      "image/png": "[encoded data removed]",
      "text/plain": [
       "<Figure size 800x550 with 1 Axes>"
      ]
     },
     "metadata": {},
     "output_type": "display_data"
    }
   ],
   "source": [
    "plt.plot(fpr, tpr, linestyle='--',color='orange', label='Logistic Regression')\n",
    "plt.plot(p_fpr, p_tpr, linestyle='--', color='blue')\n",
    "plt.title('ROC curve')\n",
    "plt.xlabel('False Positive Rate')\n",
    "plt.ylabel('True Positive rate')\n",
    "plt.legend(loc='best')\n",
    "plt.savefig('ROC',dpi=300)\n",
    "plt.show();"
   ]
  },
  {
   "cell_type": "markdown",
   "id": "a84e9bec",
   "metadata": {},
   "source": [
    "Now, predict the target value on the actual test dataset."
   ]
  },
  {
   "cell_type": "code",
   "execution_count": 176,
   "id": "815545d2",
   "metadata": {},
   "outputs": [],
   "source": [
    "y_pred_test = model.predict_proba(df_test)"
   ]
  },
  {
   "cell_type": "code",
   "execution_count": 177,
   "id": "52ea8ec6",
   "metadata": {},
   "outputs": [
    {
     "data": {
      "text/plain": [
       "array([[1.000000, 0.000000],\n",
       "       [1.000000, 0.000000],\n",
       "       [1.000000, 0.000000],\n",
       "       ...,\n",
       "       [1.000000, 0.000000],\n",
       "       [1.000000, 0.000000],\n",
       "       [1.000000, 0.000000]])"
      ]
     },
     "execution_count": 177,
     "metadata": {},
     "output_type": "execute_result"
    }
   ],
   "source": [
    "y_pred_test"
   ]
  },
  {
   "cell_type": "code",
   "execution_count": 178,
   "id": "f606a8c4",
   "metadata": {},
   "outputs": [],
   "source": [
    "df_result = pd.DataFrame()"
   ]
  },
  {
   "cell_type": "code",
   "execution_count": 179,
   "id": "94efd700",
   "metadata": {},
   "outputs": [],
   "source": [
    "df_result['player_id'] = df_player_id_test"
   ]
  },
  {
   "cell_type": "code",
   "execution_count": 184,
   "id": "b114a18e",
   "metadata": {},
   "outputs": [
    {
     "data": {
      "text/plain": [
       "(4970, 2)"
      ]
     },
     "execution_count": 184,
     "metadata": {},
     "output_type": "execute_result"
    }
   ],
   "source": [
    "df_result.shape"
   ]
  },
  {
   "cell_type": "code",
   "execution_count": 181,
   "id": "ea32dc6e",
   "metadata": {},
   "outputs": [],
   "source": [
    "df_result['drafted'] = y_pred_test[:,1]"
   ]
  },
  {
   "cell_type": "code",
   "execution_count": 183,
   "id": "c61e359f",
   "metadata": {},
   "outputs": [],
   "source": [
    "result_csv_data = df_result.to_csv('D:\\\\Tarun\\\\UTS\\\\Subjects\\\\ADV ML\\\\advmla-2023-spring\\\\result_csv_data_comp_2.csv', index = True)"
   ]
  },
  {
   "cell_type": "code",
   "execution_count": null,
   "id": "d7d7d938",
   "metadata": {},
   "outputs": [],
   "source": []
  }
 ],
 "metadata": {
  "kernelspec": {
   "display_name": "Python 3 (ipykernel)",
   "language": "python",
   "name": "python3"
  },
  "language_info": {
   "codemirror_mode": {
    "name": "ipython",
    "version": 3
   },
   "file_extension": ".py",
   "mimetype": "text/x-python",
   "name": "python",
   "nbconvert_exporter": "python",
   "pygments_lexer": "ipython3",
   "version": "3.10.9"
  }
 },
 "nbformat": 4,
 "nbformat_minor": 5
}
