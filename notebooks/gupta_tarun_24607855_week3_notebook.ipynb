{
 "cells": [
  {
   "cell_type": "markdown",
   "id": "262f5217-de91-4c3b-8d35-ad049a10799d",
   "metadata": {},
   "source": [
    "Import train and test dataset on which we need to perform the analysis."
   ]
  },
  {
   "cell_type": "code",
   "execution_count": null,
   "id": "440f3a8f-fd57-4a67-80cd-2d038a2ccf76",
   "metadata": {},
   "outputs": [],
   "source": [
    "import pandas as pd\n",
    "pd.set_option('display.max_columns', None)\n",
    "pd.set_option('display.max_rows', None)\n",
    "df_train = pd.read_csv(\"D:\\\\Tarun\\\\UTS\\\\Subjects\\\\ADV ML\\\\NBA-Drafted-Player\\\\src\\\\models\\\\train.csv\")\n",
    "df_test = pd.read_csv(\"D:\\\\Tarun\\\\UTS\\\\Subjects\\\\ADV ML\\\\NBA-Drafted-Player\\\\src\\\\models\\\\test.csv\")"
   ]
  },
  {
   "cell_type": "markdown",
   "id": "25657841-322c-4556-b664-70c389625d95",
   "metadata": {},
   "source": [
    "Analyse the dataset and its features. This will help to understand which features we need to select for the model."
   ]
  },
  {
   "cell_type": "code",
   "execution_count": 99,
   "id": "ad7558cb-cb17-4098-8e26-4318e4bfc1a2",
   "metadata": {},
   "outputs": [
    {
     "data": {
      "text/html": [
       "<div>\n",
       "<style scoped>\n",
       "    .dataframe tbody tr th:only-of-type {\n",
       "        vertical-align: middle;\n",
       "    }\n",
       "\n",
       "    .dataframe tbody tr th {\n",
       "        vertical-align: top;\n",
       "    }\n",
       "\n",
       "    .dataframe thead th {\n",
       "        text-align: right;\n",
       "    }\n",
       "</style>\n",
       "<table border=\"1\" class=\"dataframe\">\n",
       "  <thead>\n",
       "    <tr style=\"text-align: right;\">\n",
       "      <th></th>\n",
       "      <th>team</th>\n",
       "      <th>conf</th>\n",
       "      <th>GP</th>\n",
       "      <th>Min_per</th>\n",
       "      <th>Ortg</th>\n",
       "      <th>usg</th>\n",
       "      <th>eFG</th>\n",
       "      <th>TS_per</th>\n",
       "      <th>ORB_per</th>\n",
       "      <th>DRB_per</th>\n",
       "      <th>AST_per</th>\n",
       "      <th>TO_per</th>\n",
       "      <th>FTM</th>\n",
       "      <th>FTA</th>\n",
       "      <th>FT_per</th>\n",
       "      <th>twoPM</th>\n",
       "      <th>twoPA</th>\n",
       "      <th>twoP_per</th>\n",
       "      <th>TPM</th>\n",
       "      <th>TPA</th>\n",
       "      <th>TP_per</th>\n",
       "      <th>blk_per</th>\n",
       "      <th>stl_per</th>\n",
       "      <th>ftr</th>\n",
       "      <th>yr</th>\n",
       "      <th>ht</th>\n",
       "      <th>num</th>\n",
       "      <th>porpag</th>\n",
       "      <th>adjoe</th>\n",
       "      <th>pfr</th>\n",
       "      <th>year</th>\n",
       "      <th>type</th>\n",
       "      <th>Rec_Rank</th>\n",
       "      <th>ast_tov</th>\n",
       "      <th>rimmade</th>\n",
       "      <th>rimmade_rimmiss</th>\n",
       "      <th>midmade</th>\n",
       "      <th>midmade_midmiss</th>\n",
       "      <th>rim_ratio</th>\n",
       "      <th>mid_ratio</th>\n",
       "      <th>dunksmade</th>\n",
       "      <th>dunksmiss_dunksmade</th>\n",
       "      <th>dunks_ratio</th>\n",
       "      <th>pick</th>\n",
       "      <th>drtg</th>\n",
       "      <th>adrtg</th>\n",
       "      <th>dporpag</th>\n",
       "      <th>stops</th>\n",
       "      <th>bpm</th>\n",
       "      <th>obpm</th>\n",
       "      <th>dbpm</th>\n",
       "      <th>gbpm</th>\n",
       "      <th>mp</th>\n",
       "      <th>ogbpm</th>\n",
       "      <th>dgbpm</th>\n",
       "      <th>oreb</th>\n",
       "      <th>dreb</th>\n",
       "      <th>treb</th>\n",
       "      <th>ast</th>\n",
       "      <th>stl</th>\n",
       "      <th>blk</th>\n",
       "      <th>pts</th>\n",
       "      <th>player_id</th>\n",
       "      <th>drafted</th>\n",
       "    </tr>\n",
       "  </thead>\n",
       "  <tbody>\n",
       "    <tr>\n",
       "      <th>0</th>\n",
       "      <td>South Alabama</td>\n",
       "      <td>SB</td>\n",
       "      <td>26</td>\n",
       "      <td>29.5</td>\n",
       "      <td>97.3</td>\n",
       "      <td>16.6</td>\n",
       "      <td>42.5</td>\n",
       "      <td>44.43</td>\n",
       "      <td>1.6</td>\n",
       "      <td>4.6</td>\n",
       "      <td>15.8</td>\n",
       "      <td>16.3</td>\n",
       "      <td>10</td>\n",
       "      <td>14</td>\n",
       "      <td>0.714</td>\n",
       "      <td>26</td>\n",
       "      <td>68</td>\n",
       "      <td>0.382</td>\n",
       "      <td>13</td>\n",
       "      <td>39</td>\n",
       "      <td>0.333</td>\n",
       "      <td>0.3</td>\n",
       "      <td>1.5</td>\n",
       "      <td>13.1</td>\n",
       "      <td>So</td>\n",
       "      <td>2-Jun</td>\n",
       "      <td>NaN</td>\n",
       "      <td>0.258086</td>\n",
       "      <td>89.3938</td>\n",
       "      <td>2.5</td>\n",
       "      <td>2009</td>\n",
       "      <td>all</td>\n",
       "      <td>NaN</td>\n",
       "      <td>1.823646</td>\n",
       "      <td>NaN</td>\n",
       "      <td>NaN</td>\n",
       "      <td>NaN</td>\n",
       "      <td>NaN</td>\n",
       "      <td>NaN</td>\n",
       "      <td>NaN</td>\n",
       "      <td>NaN</td>\n",
       "      <td>NaN</td>\n",
       "      <td>NaN</td>\n",
       "      <td>NaN</td>\n",
       "      <td>108.321</td>\n",
       "      <td>108.527</td>\n",
       "      <td>0.893017</td>\n",
       "      <td>49.9644</td>\n",
       "      <td>-4.995140</td>\n",
       "      <td>-1.623360</td>\n",
       "      <td>-3.371780</td>\n",
       "      <td>-4.723150</td>\n",
       "      <td>14.5769</td>\n",
       "      <td>-2.781990</td>\n",
       "      <td>-1.941150</td>\n",
       "      <td>0.1923</td>\n",
       "      <td>0.6154</td>\n",
       "      <td>0.8077</td>\n",
       "      <td>1.1923</td>\n",
       "      <td>0.3462</td>\n",
       "      <td>0.0385</td>\n",
       "      <td>3.8846</td>\n",
       "      <td>7be2aead-da4e-4d13-a74b-4c1e692e2368</td>\n",
       "      <td>0.0</td>\n",
       "    </tr>\n",
       "    <tr>\n",
       "      <th>1</th>\n",
       "      <td>Utah St.</td>\n",
       "      <td>WAC</td>\n",
       "      <td>34</td>\n",
       "      <td>60.9</td>\n",
       "      <td>108.3</td>\n",
       "      <td>14.9</td>\n",
       "      <td>52.4</td>\n",
       "      <td>54.48</td>\n",
       "      <td>3.8</td>\n",
       "      <td>6.3</td>\n",
       "      <td>13.6</td>\n",
       "      <td>19.8</td>\n",
       "      <td>30</td>\n",
       "      <td>45</td>\n",
       "      <td>0.667</td>\n",
       "      <td>56</td>\n",
       "      <td>113</td>\n",
       "      <td>0.496</td>\n",
       "      <td>20</td>\n",
       "      <td>51</td>\n",
       "      <td>0.392</td>\n",
       "      <td>1.0</td>\n",
       "      <td>1.1</td>\n",
       "      <td>27.4</td>\n",
       "      <td>So</td>\n",
       "      <td>4-Jun</td>\n",
       "      <td>NaN</td>\n",
       "      <td>1.334920</td>\n",
       "      <td>100.0660</td>\n",
       "      <td>3.4</td>\n",
       "      <td>2009</td>\n",
       "      <td>all</td>\n",
       "      <td>NaN</td>\n",
       "      <td>1.631621</td>\n",
       "      <td>NaN</td>\n",
       "      <td>NaN</td>\n",
       "      <td>NaN</td>\n",
       "      <td>NaN</td>\n",
       "      <td>NaN</td>\n",
       "      <td>NaN</td>\n",
       "      <td>NaN</td>\n",
       "      <td>NaN</td>\n",
       "      <td>NaN</td>\n",
       "      <td>NaN</td>\n",
       "      <td>105.078</td>\n",
       "      <td>104.017</td>\n",
       "      <td>1.880030</td>\n",
       "      <td>111.9290</td>\n",
       "      <td>0.593024</td>\n",
       "      <td>1.385490</td>\n",
       "      <td>-0.792469</td>\n",
       "      <td>-0.300196</td>\n",
       "      <td>24.5294</td>\n",
       "      <td>-0.052263</td>\n",
       "      <td>-0.247934</td>\n",
       "      <td>0.6765</td>\n",
       "      <td>1.2647</td>\n",
       "      <td>1.9412</td>\n",
       "      <td>1.8235</td>\n",
       "      <td>0.4118</td>\n",
       "      <td>0.2353</td>\n",
       "      <td>5.9412</td>\n",
       "      <td>61de55d9-1582-4ea4-b593-44f6aa6524a6</td>\n",
       "      <td>0.0</td>\n",
       "    </tr>\n",
       "    <tr>\n",
       "      <th>2</th>\n",
       "      <td>South Florida</td>\n",
       "      <td>BE</td>\n",
       "      <td>27</td>\n",
       "      <td>72.0</td>\n",
       "      <td>96.2</td>\n",
       "      <td>21.8</td>\n",
       "      <td>45.7</td>\n",
       "      <td>47.98</td>\n",
       "      <td>2.1</td>\n",
       "      <td>8.0</td>\n",
       "      <td>14.7</td>\n",
       "      <td>15.9</td>\n",
       "      <td>45</td>\n",
       "      <td>67</td>\n",
       "      <td>0.672</td>\n",
       "      <td>67</td>\n",
       "      <td>157</td>\n",
       "      <td>0.427</td>\n",
       "      <td>50</td>\n",
       "      <td>154</td>\n",
       "      <td>0.325</td>\n",
       "      <td>0.0</td>\n",
       "      <td>0.9</td>\n",
       "      <td>21.5</td>\n",
       "      <td>Sr</td>\n",
       "      <td>4-Jun</td>\n",
       "      <td>NaN</td>\n",
       "      <td>2.274070</td>\n",
       "      <td>104.1070</td>\n",
       "      <td>1.7</td>\n",
       "      <td>2009</td>\n",
       "      <td>all</td>\n",
       "      <td>NaN</td>\n",
       "      <td>1.081662</td>\n",
       "      <td>NaN</td>\n",
       "      <td>NaN</td>\n",
       "      <td>NaN</td>\n",
       "      <td>NaN</td>\n",
       "      <td>NaN</td>\n",
       "      <td>NaN</td>\n",
       "      <td>NaN</td>\n",
       "      <td>NaN</td>\n",
       "      <td>NaN</td>\n",
       "      <td>NaN</td>\n",
       "      <td>107.556</td>\n",
       "      <td>102.154</td>\n",
       "      <td>2.763870</td>\n",
       "      <td>115.0210</td>\n",
       "      <td>0.003161</td>\n",
       "      <td>1.024770</td>\n",
       "      <td>-1.021610</td>\n",
       "      <td>0.665065</td>\n",
       "      <td>33.1852</td>\n",
       "      <td>1.548230</td>\n",
       "      <td>-0.883163</td>\n",
       "      <td>0.6296</td>\n",
       "      <td>2.3333</td>\n",
       "      <td>2.9630</td>\n",
       "      <td>1.9630</td>\n",
       "      <td>0.4815</td>\n",
       "      <td>0.0000</td>\n",
       "      <td>12.1852</td>\n",
       "      <td>efdc4cfc-9dd0-4bf8-acef-7273e4d5b655</td>\n",
       "      <td>0.0</td>\n",
       "    </tr>\n",
       "    <tr>\n",
       "      <th>3</th>\n",
       "      <td>Pepperdine</td>\n",
       "      <td>WCC</td>\n",
       "      <td>30</td>\n",
       "      <td>44.5</td>\n",
       "      <td>97.7</td>\n",
       "      <td>16.0</td>\n",
       "      <td>53.6</td>\n",
       "      <td>53.69</td>\n",
       "      <td>4.1</td>\n",
       "      <td>9.4</td>\n",
       "      <td>13.7</td>\n",
       "      <td>23.8</td>\n",
       "      <td>14</td>\n",
       "      <td>27</td>\n",
       "      <td>0.519</td>\n",
       "      <td>25</td>\n",
       "      <td>63</td>\n",
       "      <td>0.397</td>\n",
       "      <td>28</td>\n",
       "      <td>62</td>\n",
       "      <td>0.452</td>\n",
       "      <td>0.8</td>\n",
       "      <td>1.9</td>\n",
       "      <td>21.6</td>\n",
       "      <td>Sr</td>\n",
       "      <td>4-Jun</td>\n",
       "      <td>NaN</td>\n",
       "      <td>0.552857</td>\n",
       "      <td>93.2086</td>\n",
       "      <td>2.0</td>\n",
       "      <td>2009</td>\n",
       "      <td>all</td>\n",
       "      <td>NaN</td>\n",
       "      <td>0.942830</td>\n",
       "      <td>NaN</td>\n",
       "      <td>NaN</td>\n",
       "      <td>NaN</td>\n",
       "      <td>NaN</td>\n",
       "      <td>NaN</td>\n",
       "      <td>NaN</td>\n",
       "      <td>NaN</td>\n",
       "      <td>NaN</td>\n",
       "      <td>NaN</td>\n",
       "      <td>NaN</td>\n",
       "      <td>108.858</td>\n",
       "      <td>106.556</td>\n",
       "      <td>1.218710</td>\n",
       "      <td>84.1698</td>\n",
       "      <td>-0.977798</td>\n",
       "      <td>-0.502574</td>\n",
       "      <td>-0.475224</td>\n",
       "      <td>-0.736233</td>\n",
       "      <td>17.9667</td>\n",
       "      <td>-0.342775</td>\n",
       "      <td>-0.393459</td>\n",
       "      <td>0.7000</td>\n",
       "      <td>1.4333</td>\n",
       "      <td>2.1333</td>\n",
       "      <td>1.1000</td>\n",
       "      <td>0.5667</td>\n",
       "      <td>0.1333</td>\n",
       "      <td>4.9333</td>\n",
       "      <td>14f05660-bb3c-4868-b3dd-09bcdb64279d</td>\n",
       "      <td>0.0</td>\n",
       "    </tr>\n",
       "    <tr>\n",
       "      <th>4</th>\n",
       "      <td>Pacific</td>\n",
       "      <td>BW</td>\n",
       "      <td>33</td>\n",
       "      <td>56.2</td>\n",
       "      <td>96.5</td>\n",
       "      <td>22.0</td>\n",
       "      <td>52.8</td>\n",
       "      <td>54.31</td>\n",
       "      <td>8.3</td>\n",
       "      <td>18.6</td>\n",
       "      <td>8.2</td>\n",
       "      <td>22.7</td>\n",
       "      <td>64</td>\n",
       "      <td>114</td>\n",
       "      <td>0.561</td>\n",
       "      <td>93</td>\n",
       "      <td>176</td>\n",
       "      <td>0.528</td>\n",
       "      <td>0</td>\n",
       "      <td>0</td>\n",
       "      <td>0.000</td>\n",
       "      <td>1.9</td>\n",
       "      <td>1.3</td>\n",
       "      <td>64.8</td>\n",
       "      <td>Sr</td>\n",
       "      <td>8-Jun</td>\n",
       "      <td>NaN</td>\n",
       "      <td>1.060130</td>\n",
       "      <td>97.8554</td>\n",
       "      <td>3.8</td>\n",
       "      <td>2009</td>\n",
       "      <td>all</td>\n",
       "      <td>NaN</td>\n",
       "      <td>0.491229</td>\n",
       "      <td>NaN</td>\n",
       "      <td>NaN</td>\n",
       "      <td>NaN</td>\n",
       "      <td>NaN</td>\n",
       "      <td>NaN</td>\n",
       "      <td>NaN</td>\n",
       "      <td>NaN</td>\n",
       "      <td>NaN</td>\n",
       "      <td>NaN</td>\n",
       "      <td>NaN</td>\n",
       "      <td>101.052</td>\n",
       "      <td>100.724</td>\n",
       "      <td>1.992790</td>\n",
       "      <td>128.0280</td>\n",
       "      <td>-1.836060</td>\n",
       "      <td>-1.946040</td>\n",
       "      <td>0.109983</td>\n",
       "      <td>-2.353180</td>\n",
       "      <td>22.9091</td>\n",
       "      <td>-1.684860</td>\n",
       "      <td>-0.668318</td>\n",
       "      <td>1.4242</td>\n",
       "      <td>3.3030</td>\n",
       "      <td>4.7273</td>\n",
       "      <td>0.8485</td>\n",
       "      <td>0.4545</td>\n",
       "      <td>0.3333</td>\n",
       "      <td>7.5758</td>\n",
       "      <td>a58db52f-fbba-4e7b-83d0-371efcfed039</td>\n",
       "      <td>0.0</td>\n",
       "    </tr>\n",
       "  </tbody>\n",
       "</table>\n",
       "</div>"
      ],
      "text/plain": [
       "            team conf  GP  Min_per   Ortg   usg   eFG  TS_per  ORB_per  \\\n",
       "0  South Alabama   SB  26     29.5   97.3  16.6  42.5   44.43      1.6   \n",
       "1       Utah St.  WAC  34     60.9  108.3  14.9  52.4   54.48      3.8   \n",
       "2  South Florida   BE  27     72.0   96.2  21.8  45.7   47.98      2.1   \n",
       "3     Pepperdine  WCC  30     44.5   97.7  16.0  53.6   53.69      4.1   \n",
       "4        Pacific   BW  33     56.2   96.5  22.0  52.8   54.31      8.3   \n",
       "\n",
       "   DRB_per  AST_per  TO_per  FTM  FTA  FT_per  twoPM  twoPA  twoP_per  TPM  \\\n",
       "0      4.6     15.8    16.3   10   14   0.714     26     68     0.382   13   \n",
       "1      6.3     13.6    19.8   30   45   0.667     56    113     0.496   20   \n",
       "2      8.0     14.7    15.9   45   67   0.672     67    157     0.427   50   \n",
       "3      9.4     13.7    23.8   14   27   0.519     25     63     0.397   28   \n",
       "4     18.6      8.2    22.7   64  114   0.561     93    176     0.528    0   \n",
       "\n",
       "   TPA  TP_per  blk_per  stl_per   ftr  yr     ht  num    porpag     adjoe  \\\n",
       "0   39   0.333      0.3      1.5  13.1  So  2-Jun  NaN  0.258086   89.3938   \n",
       "1   51   0.392      1.0      1.1  27.4  So  4-Jun  NaN  1.334920  100.0660   \n",
       "2  154   0.325      0.0      0.9  21.5  Sr  4-Jun  NaN  2.274070  104.1070   \n",
       "3   62   0.452      0.8      1.9  21.6  Sr  4-Jun  NaN  0.552857   93.2086   \n",
       "4    0   0.000      1.9      1.3  64.8  Sr  8-Jun  NaN  1.060130   97.8554   \n",
       "\n",
       "   pfr  year type  Rec_Rank   ast_tov  rimmade  rimmade_rimmiss  midmade  \\\n",
       "0  2.5  2009  all       NaN  1.823646      NaN              NaN      NaN   \n",
       "1  3.4  2009  all       NaN  1.631621      NaN              NaN      NaN   \n",
       "2  1.7  2009  all       NaN  1.081662      NaN              NaN      NaN   \n",
       "3  2.0  2009  all       NaN  0.942830      NaN              NaN      NaN   \n",
       "4  3.8  2009  all       NaN  0.491229      NaN              NaN      NaN   \n",
       "\n",
       "   midmade_midmiss  rim_ratio  mid_ratio  dunksmade  dunksmiss_dunksmade  \\\n",
       "0              NaN        NaN        NaN        NaN                  NaN   \n",
       "1              NaN        NaN        NaN        NaN                  NaN   \n",
       "2              NaN        NaN        NaN        NaN                  NaN   \n",
       "3              NaN        NaN        NaN        NaN                  NaN   \n",
       "4              NaN        NaN        NaN        NaN                  NaN   \n",
       "\n",
       "   dunks_ratio  pick     drtg    adrtg   dporpag     stops       bpm  \\\n",
       "0          NaN   NaN  108.321  108.527  0.893017   49.9644 -4.995140   \n",
       "1          NaN   NaN  105.078  104.017  1.880030  111.9290  0.593024   \n",
       "2          NaN   NaN  107.556  102.154  2.763870  115.0210  0.003161   \n",
       "3          NaN   NaN  108.858  106.556  1.218710   84.1698 -0.977798   \n",
       "4          NaN   NaN  101.052  100.724  1.992790  128.0280 -1.836060   \n",
       "\n",
       "       obpm      dbpm      gbpm       mp     ogbpm     dgbpm    oreb    dreb  \\\n",
       "0 -1.623360 -3.371780 -4.723150  14.5769 -2.781990 -1.941150  0.1923  0.6154   \n",
       "1  1.385490 -0.792469 -0.300196  24.5294 -0.052263 -0.247934  0.6765  1.2647   \n",
       "2  1.024770 -1.021610  0.665065  33.1852  1.548230 -0.883163  0.6296  2.3333   \n",
       "3 -0.502574 -0.475224 -0.736233  17.9667 -0.342775 -0.393459  0.7000  1.4333   \n",
       "4 -1.946040  0.109983 -2.353180  22.9091 -1.684860 -0.668318  1.4242  3.3030   \n",
       "\n",
       "     treb     ast     stl     blk      pts  \\\n",
       "0  0.8077  1.1923  0.3462  0.0385   3.8846   \n",
       "1  1.9412  1.8235  0.4118  0.2353   5.9412   \n",
       "2  2.9630  1.9630  0.4815  0.0000  12.1852   \n",
       "3  2.1333  1.1000  0.5667  0.1333   4.9333   \n",
       "4  4.7273  0.8485  0.4545  0.3333   7.5758   \n",
       "\n",
       "                              player_id  drafted  \n",
       "0  7be2aead-da4e-4d13-a74b-4c1e692e2368      0.0  \n",
       "1  61de55d9-1582-4ea4-b593-44f6aa6524a6      0.0  \n",
       "2  efdc4cfc-9dd0-4bf8-acef-7273e4d5b655      0.0  \n",
       "3  14f05660-bb3c-4868-b3dd-09bcdb64279d      0.0  \n",
       "4  a58db52f-fbba-4e7b-83d0-371efcfed039      0.0  "
      ]
     },
     "execution_count": 99,
     "metadata": {},
     "output_type": "execute_result"
    }
   ],
   "source": [
    "df_train.head(5)"
   ]
  },
  {
   "cell_type": "code",
   "execution_count": 100,
   "id": "e15a758c-c78b-48e6-abd9-f21149eea55a",
   "metadata": {},
   "outputs": [
    {
     "name": "stdout",
     "output_type": "stream",
     "text": [
      "(56091, 64)\n",
      "(4970, 63)\n"
     ]
    }
   ],
   "source": [
    "print(df_train.shape)\n",
    "print(df_test.shape)"
   ]
  },
  {
   "cell_type": "code",
   "execution_count": 12,
   "id": "3bc79bee-5d6a-4054-bcb2-9f236bc42de3",
   "metadata": {},
   "outputs": [
    {
     "data": {
      "text/plain": [
       "team                    object\n",
       "conf                    object\n",
       "GP                       int64\n",
       "Min_per                float64\n",
       "Ortg                   float64\n",
       "usg                    float64\n",
       "eFG                    float64\n",
       "TS_per                 float64\n",
       "ORB_per                float64\n",
       "DRB_per                float64\n",
       "AST_per                float64\n",
       "TO_per                 float64\n",
       "FTM                      int64\n",
       "FTA                      int64\n",
       "FT_per                 float64\n",
       "twoPM                    int64\n",
       "twoPA                    int64\n",
       "twoP_per               float64\n",
       "TPM                      int64\n",
       "TPA                      int64\n",
       "TP_per                 float64\n",
       "blk_per                float64\n",
       "stl_per                float64\n",
       "ftr                    float64\n",
       "yr                      object\n",
       "ht                      object\n",
       "num                     object\n",
       "porpag                 float64\n",
       "adjoe                  float64\n",
       "pfr                    float64\n",
       "year                     int64\n",
       "type                    object\n",
       "Rec_Rank               float64\n",
       "ast_tov                float64\n",
       "rimmade                float64\n",
       "rimmade_rimmiss        float64\n",
       "midmade                float64\n",
       "midmade_midmiss        float64\n",
       "rim_ratio              float64\n",
       "mid_ratio              float64\n",
       "dunksmade              float64\n",
       "dunksmiss_dunksmade    float64\n",
       "dunks_ratio            float64\n",
       "pick                   float64\n",
       "drtg                   float64\n",
       "adrtg                  float64\n",
       "dporpag                float64\n",
       "stops                  float64\n",
       "bpm                    float64\n",
       "obpm                   float64\n",
       "dbpm                   float64\n",
       "gbpm                   float64\n",
       "mp                     float64\n",
       "ogbpm                  float64\n",
       "dgbpm                  float64\n",
       "oreb                   float64\n",
       "dreb                   float64\n",
       "treb                   float64\n",
       "ast                    float64\n",
       "stl                    float64\n",
       "blk                    float64\n",
       "pts                    float64\n",
       "player_id               object\n",
       "drafted                float64\n",
       "dtype: object"
      ]
     },
     "execution_count": 12,
     "metadata": {},
     "output_type": "execute_result"
    }
   ],
   "source": [
    "df_train.dtypes"
   ]
  },
  {
   "cell_type": "markdown",
   "id": "7331646b-0dff-4243-abf8-2d34fabd2f44",
   "metadata": {},
   "source": [
    "Replace the None object values to NA for the missing data treatment."
   ]
  },
  {
   "cell_type": "code",
   "execution_count": 101,
   "id": "ad4b5746-74dc-46b3-ba6e-52b352998c6c",
   "metadata": {},
   "outputs": [],
   "source": [
    "df_train = df_train.replace('None', pd.NA)\n",
    "df_test = df_test.replace('None', pd.NA)"
   ]
  },
  {
   "cell_type": "markdown",
   "id": "d1ec3be1-467b-4a8f-b116-ec1b1f733373",
   "metadata": {},
   "source": [
    "Check the missing data features with the count of missing data values. This will help to understand which columns needs to be treated for missing data."
   ]
  },
  {
   "cell_type": "code",
   "execution_count": 102,
   "id": "12421507-643f-4fc8-b259-95f00c5778f7",
   "metadata": {},
   "outputs": [
    {
     "data": {
      "text/plain": [
       "team                       0\n",
       "conf                       0\n",
       "GP                         0\n",
       "Min_per                    0\n",
       "Ortg                       0\n",
       "usg                        0\n",
       "eFG                        0\n",
       "TS_per                     0\n",
       "ORB_per                    0\n",
       "DRB_per                    0\n",
       "AST_per                    0\n",
       "TO_per                     0\n",
       "FTM                        0\n",
       "FTA                        0\n",
       "FT_per                     0\n",
       "twoPM                      0\n",
       "twoPA                      0\n",
       "twoP_per                   0\n",
       "TPM                        0\n",
       "TPA                        0\n",
       "TP_per                     0\n",
       "blk_per                    0\n",
       "stl_per                    0\n",
       "ftr                        0\n",
       "yr                       292\n",
       "ht                        98\n",
       "num                     4690\n",
       "porpag                     0\n",
       "adjoe                      0\n",
       "pfr                        0\n",
       "year                       0\n",
       "type                       0\n",
       "Rec_Rank               39055\n",
       "ast_tov                 4190\n",
       "rimmade                 6081\n",
       "rimmade_rimmiss         6081\n",
       "midmade                 6081\n",
       "midmade_midmiss         6081\n",
       "rim_ratio               9464\n",
       "mid_ratio               9688\n",
       "dunksmade               6081\n",
       "dunksmiss_dunksmade     6081\n",
       "dunks_ratio            30793\n",
       "pick                   54705\n",
       "drtg                      44\n",
       "adrtg                     44\n",
       "dporpag                   44\n",
       "stops                     44\n",
       "bpm                       44\n",
       "obpm                      44\n",
       "dbpm                      44\n",
       "gbpm                      44\n",
       "mp                        38\n",
       "ogbpm                     44\n",
       "dgbpm                     44\n",
       "oreb                      38\n",
       "dreb                      38\n",
       "treb                      38\n",
       "ast                       38\n",
       "stl                       38\n",
       "blk                       38\n",
       "pts                       38\n",
       "player_id                  0\n",
       "drafted                    0\n",
       "dtype: int64"
      ]
     },
     "execution_count": 102,
     "metadata": {},
     "output_type": "execute_result"
    }
   ],
   "source": [
    "df_train.isna().sum()"
   ]
  },
  {
   "cell_type": "code",
   "execution_count": 103,
   "id": "a13209bd-68f4-469e-ac1f-8af67932c263",
   "metadata": {},
   "outputs": [],
   "source": [
    "cols_to_drop = ['yr', 'ht', 'num']"
   ]
  },
  {
   "cell_type": "markdown",
   "id": "3fcd7b5d-bee0-44ea-a8be-d8e305ed9726",
   "metadata": {},
   "source": [
    "In this experiment for the preprocessing and feature selection, I have dropped only irrelevant features.\n",
    "\n",
    "**yr** - student year of study. AS we are comparing the matches and goals, so year of study is not needed for analysis.\n",
    "\n",
    "**ht** - height of student. Height of student does not matters to analyse its performance.\n",
    "\n",
    "**num** - number of the player as it is not relevant."
   ]
  },
  {
   "cell_type": "code",
   "execution_count": 104,
   "id": "42b0eb99-27e1-46d5-88fe-717069469491",
   "metadata": {},
   "outputs": [],
   "source": [
    "df_train = df_train.drop(df_train.columns.intersection(cols_to_drop), axis=1)\n",
    "df_test = df_test.drop(df_test.columns.intersection(cols_to_drop), axis=1)"
   ]
  },
  {
   "cell_type": "markdown",
   "id": "811b6d9a-c52c-4a41-bea0-91d65a9021ad",
   "metadata": {},
   "source": [
    "Now, check the missing data columns in the assending order which needs to get a treatment."
   ]
  },
  {
   "cell_type": "code",
   "execution_count": 105,
   "id": "4634b716-6973-4c7c-84e4-e010235206a7",
   "metadata": {},
   "outputs": [],
   "source": [
    "missing_data_train = df_train.isna().sum().sort_values(ascending=False)\n",
    "missing_data_test = df_test.isna().sum().sort_values(ascending=False)"
   ]
  },
  {
   "cell_type": "code",
   "execution_count": 106,
   "id": "2f82c17f-90a6-4abe-a0f1-783dea728856",
   "metadata": {},
   "outputs": [
    {
     "data": {
      "text/plain": [
       "pick                   4921\n",
       "Rec_Rank               3536\n",
       "dunks_ratio            2717\n",
       "mid_ratio               697\n",
       "rim_ratio               646\n",
       "ast_tov                 537\n",
       "rimmade_rimmiss         248\n",
       "midmade                 248\n",
       "midmade_midmiss         248\n",
       "dunksmade               248\n",
       "dunksmiss_dunksmade     248\n",
       "rimmade                 248\n",
       "adrtg                     1\n",
       "stops                     1\n",
       "drtg                      1\n",
       "dporpag                   1\n",
       "bpm                       1\n",
       "obpm                      1\n",
       "dbpm                      1\n",
       "gbpm                      1\n",
       "ogbpm                     1\n",
       "dgbpm                     1\n",
       "dreb                      0\n",
       "ast                       0\n",
       "stl                       0\n",
       "mp                        0\n",
       "blk                       0\n",
       "pts                       0\n",
       "oreb                      0\n",
       "treb                      0\n",
       "team                      0\n",
       "conf                      0\n",
       "FT_per                    0\n",
       "GP                        0\n",
       "Min_per                   0\n",
       "Ortg                      0\n",
       "usg                       0\n",
       "eFG                       0\n",
       "TS_per                    0\n",
       "ORB_per                   0\n",
       "DRB_per                   0\n",
       "AST_per                   0\n",
       "TO_per                    0\n",
       "FTM                       0\n",
       "FTA                       0\n",
       "twoPM                     0\n",
       "type                      0\n",
       "twoPA                     0\n",
       "twoP_per                  0\n",
       "TPM                       0\n",
       "TPA                       0\n",
       "TP_per                    0\n",
       "blk_per                   0\n",
       "stl_per                   0\n",
       "ftr                       0\n",
       "porpag                    0\n",
       "adjoe                     0\n",
       "pfr                       0\n",
       "year                      0\n",
       "player_id                 0\n",
       "dtype: int64"
      ]
     },
     "execution_count": 106,
     "metadata": {},
     "output_type": "execute_result"
    }
   ],
   "source": [
    "missing_data_test"
   ]
  },
  {
   "cell_type": "markdown",
   "id": "e120bb89-bbdd-4555-8880-bbaa410243e3",
   "metadata": {},
   "source": [
    "For the missing values, I have replaced the missing values to mean and mode of the feature on the basis of its dtypes."
   ]
  },
  {
   "cell_type": "code",
   "execution_count": 107,
   "id": "7fc725b5-d4b9-4762-a2a5-23dc7a61d1b3",
   "metadata": {},
   "outputs": [],
   "source": [
    "def remove_missing_data(col, df):\n",
    "    if df[col].dtypes == 'object':\n",
    "        df[col] = df[col].fillna(df[col].mode())\n",
    "    else:\n",
    "        df[col] = df[col].fillna(df[col].mean())\n",
    "    return df"
   ]
  },
  {
   "cell_type": "code",
   "execution_count": 108,
   "id": "1c81339b-5858-41fc-a255-9cfca69dbbd8",
   "metadata": {},
   "outputs": [],
   "source": [
    "def missing_data_treatment(missing_data, df):\n",
    "    i = 0\n",
    "    while missing_data.values[i] > 0:\n",
    "        df = remove_missing_data(missing_data.keys()[i], df)\n",
    "        i += 1\n",
    "    return df"
   ]
  },
  {
   "cell_type": "code",
   "execution_count": 109,
   "id": "304cf681-ac10-4dbd-a5cc-942d40891430",
   "metadata": {},
   "outputs": [],
   "source": [
    "df_train = missing_data_treatment(missing_data_train, df_train)\n",
    "df_test = missing_data_treatment(missing_data_test, df_test)"
   ]
  },
  {
   "cell_type": "code",
   "execution_count": 110,
   "id": "4dca2a8a-a666-4616-bdac-1b260aa40cd5",
   "metadata": {},
   "outputs": [
    {
     "name": "stdout",
     "output_type": "stream",
     "text": [
      "(56091, 61)\n",
      "(4970, 60)\n"
     ]
    }
   ],
   "source": [
    "print(df_train.shape)\n",
    "print(df_test.shape)"
   ]
  },
  {
   "cell_type": "markdown",
   "id": "372e8aab-473f-4cdd-a69a-d295c42930fe",
   "metadata": {},
   "source": [
    "Seperate the X and Y train dataset and spilt the train dataset into train and test."
   ]
  },
  {
   "cell_type": "code",
   "execution_count": 111,
   "id": "1282d505-f842-41b5-9bed-1c92b823e710",
   "metadata": {},
   "outputs": [],
   "source": [
    "df_X_train = df_train.drop('drafted', axis='columns')"
   ]
  },
  {
   "cell_type": "code",
   "execution_count": 112,
   "id": "6b250e1e-9418-492f-9736-c5335e21f0ec",
   "metadata": {},
   "outputs": [],
   "source": [
    "df_Y_train = df_train.drafted"
   ]
  },
  {
   "cell_type": "markdown",
   "id": "fa3fe254-15eb-454c-bf9e-c9559fac2343",
   "metadata": {},
   "source": [
    "Now perform the LabelEnconding on the categorical features, Using the LabelEncoder to transform the string into numeric."
   ]
  },
  {
   "cell_type": "code",
   "execution_count": 113,
   "id": "23ff0f7c-6ace-49c8-8515-29647dd46719",
   "metadata": {},
   "outputs": [],
   "source": [
    "from sklearn.preprocessing import LabelEncoder\n",
    "le_player_id = LabelEncoder()\n",
    "le_team = LabelEncoder()\n",
    "le_conf = LabelEncoder()\n",
    "le_type = LabelEncoder()"
   ]
  },
  {
   "cell_type": "code",
   "execution_count": 114,
   "id": "fa86f140-cc65-474d-ad58-dbaa5e3c013f",
   "metadata": {},
   "outputs": [],
   "source": [
    "df_X_train['le_team'] = le_team.fit_transform(df_X_train['team'])\n",
    "df_test['le_team'] = le_team.fit_transform(df_test['team'])\n",
    "\n",
    "df_X_train['le_conf'] = le_conf.fit_transform(df_X_train['conf'])\n",
    "df_test['le_conf'] = le_conf.fit_transform(df_test['conf'])\n",
    "\n",
    "df_X_train['le_type'] = le_type.fit_transform(df_X_train['type'])\n",
    "df_test['le_type'] = le_type.fit_transform(df_test['type'])"
   ]
  },
  {
   "cell_type": "code",
   "execution_count": 115,
   "id": "7e4092e1-0d4e-4cfa-a629-7c821c13d0be",
   "metadata": {},
   "outputs": [],
   "source": [
    "df_player_id_train = df_X_train.player_id\n",
    "df_player_id_test = df_test.player_id\n",
    "\n",
    "df_X_train = df_X_train.drop(['player_id', 'team', 'conf', 'type'], axis='columns')\n",
    "df_test = df_test.drop(['player_id', 'team', 'conf', 'type'], axis='columns')"
   ]
  },
  {
   "cell_type": "code",
   "execution_count": 118,
   "id": "2b2c337b-24ab-47af-8e5a-bb40bfc38cda",
   "metadata": {},
   "outputs": [
    {
     "data": {
      "text/html": [
       "<div>\n",
       "<style scoped>\n",
       "    .dataframe tbody tr th:only-of-type {\n",
       "        vertical-align: middle;\n",
       "    }\n",
       "\n",
       "    .dataframe tbody tr th {\n",
       "        vertical-align: top;\n",
       "    }\n",
       "\n",
       "    .dataframe thead th {\n",
       "        text-align: right;\n",
       "    }\n",
       "</style>\n",
       "<table border=\"1\" class=\"dataframe\">\n",
       "  <thead>\n",
       "    <tr style=\"text-align: right;\">\n",
       "      <th></th>\n",
       "      <th>GP</th>\n",
       "      <th>Min_per</th>\n",
       "      <th>Ortg</th>\n",
       "      <th>usg</th>\n",
       "      <th>eFG</th>\n",
       "      <th>TS_per</th>\n",
       "      <th>ORB_per</th>\n",
       "      <th>DRB_per</th>\n",
       "      <th>AST_per</th>\n",
       "      <th>TO_per</th>\n",
       "      <th>FTM</th>\n",
       "      <th>FTA</th>\n",
       "      <th>FT_per</th>\n",
       "      <th>twoPM</th>\n",
       "      <th>twoPA</th>\n",
       "      <th>twoP_per</th>\n",
       "      <th>TPM</th>\n",
       "      <th>TPA</th>\n",
       "      <th>TP_per</th>\n",
       "      <th>blk_per</th>\n",
       "      <th>stl_per</th>\n",
       "      <th>ftr</th>\n",
       "      <th>porpag</th>\n",
       "      <th>adjoe</th>\n",
       "      <th>pfr</th>\n",
       "      <th>year</th>\n",
       "      <th>Rec_Rank</th>\n",
       "      <th>ast_tov</th>\n",
       "      <th>rimmade</th>\n",
       "      <th>rimmade_rimmiss</th>\n",
       "      <th>midmade</th>\n",
       "      <th>midmade_midmiss</th>\n",
       "      <th>rim_ratio</th>\n",
       "      <th>mid_ratio</th>\n",
       "      <th>dunksmade</th>\n",
       "      <th>dunksmiss_dunksmade</th>\n",
       "      <th>dunks_ratio</th>\n",
       "      <th>pick</th>\n",
       "      <th>drtg</th>\n",
       "      <th>adrtg</th>\n",
       "      <th>dporpag</th>\n",
       "      <th>stops</th>\n",
       "      <th>bpm</th>\n",
       "      <th>obpm</th>\n",
       "      <th>dbpm</th>\n",
       "      <th>gbpm</th>\n",
       "      <th>mp</th>\n",
       "      <th>ogbpm</th>\n",
       "      <th>dgbpm</th>\n",
       "      <th>oreb</th>\n",
       "      <th>dreb</th>\n",
       "      <th>treb</th>\n",
       "      <th>ast</th>\n",
       "      <th>stl</th>\n",
       "      <th>blk</th>\n",
       "      <th>pts</th>\n",
       "      <th>le_team</th>\n",
       "      <th>le_conf</th>\n",
       "      <th>le_type</th>\n",
       "    </tr>\n",
       "  </thead>\n",
       "  <tbody>\n",
       "    <tr>\n",
       "      <th>0</th>\n",
       "      <td>26</td>\n",
       "      <td>29.5</td>\n",
       "      <td>97.3</td>\n",
       "      <td>16.6</td>\n",
       "      <td>42.5</td>\n",
       "      <td>44.43</td>\n",
       "      <td>1.6</td>\n",
       "      <td>4.6</td>\n",
       "      <td>15.8</td>\n",
       "      <td>16.3</td>\n",
       "      <td>10</td>\n",
       "      <td>14</td>\n",
       "      <td>0.714</td>\n",
       "      <td>26</td>\n",
       "      <td>68</td>\n",
       "      <td>0.382</td>\n",
       "      <td>13</td>\n",
       "      <td>39</td>\n",
       "      <td>0.333</td>\n",
       "      <td>0.3</td>\n",
       "      <td>1.5</td>\n",
       "      <td>13.1</td>\n",
       "      <td>0.258086</td>\n",
       "      <td>89.3938</td>\n",
       "      <td>2.5</td>\n",
       "      <td>2009</td>\n",
       "      <td>53.456363</td>\n",
       "      <td>1.823646</td>\n",
       "      <td>28.066087</td>\n",
       "      <td>47.05249</td>\n",
       "      <td>14.494741</td>\n",
       "      <td>40.523115</td>\n",
       "      <td>0.56408</td>\n",
       "      <td>0.323633</td>\n",
       "      <td>3.836553</td>\n",
       "      <td>4.311618</td>\n",
       "      <td>0.86357</td>\n",
       "      <td>33.25469</td>\n",
       "      <td>108.321</td>\n",
       "      <td>108.527</td>\n",
       "      <td>0.893017</td>\n",
       "      <td>49.9644</td>\n",
       "      <td>-4.995140</td>\n",
       "      <td>-1.623360</td>\n",
       "      <td>-3.371780</td>\n",
       "      <td>-4.723150</td>\n",
       "      <td>14.5769</td>\n",
       "      <td>-2.781990</td>\n",
       "      <td>-1.941150</td>\n",
       "      <td>0.1923</td>\n",
       "      <td>0.6154</td>\n",
       "      <td>0.8077</td>\n",
       "      <td>1.1923</td>\n",
       "      <td>0.3462</td>\n",
       "      <td>0.0385</td>\n",
       "      <td>3.8846</td>\n",
       "      <td>267</td>\n",
       "      <td>27</td>\n",
       "      <td>0</td>\n",
       "    </tr>\n",
       "    <tr>\n",
       "      <th>1</th>\n",
       "      <td>34</td>\n",
       "      <td>60.9</td>\n",
       "      <td>108.3</td>\n",
       "      <td>14.9</td>\n",
       "      <td>52.4</td>\n",
       "      <td>54.48</td>\n",
       "      <td>3.8</td>\n",
       "      <td>6.3</td>\n",
       "      <td>13.6</td>\n",
       "      <td>19.8</td>\n",
       "      <td>30</td>\n",
       "      <td>45</td>\n",
       "      <td>0.667</td>\n",
       "      <td>56</td>\n",
       "      <td>113</td>\n",
       "      <td>0.496</td>\n",
       "      <td>20</td>\n",
       "      <td>51</td>\n",
       "      <td>0.392</td>\n",
       "      <td>1.0</td>\n",
       "      <td>1.1</td>\n",
       "      <td>27.4</td>\n",
       "      <td>1.334920</td>\n",
       "      <td>100.0660</td>\n",
       "      <td>3.4</td>\n",
       "      <td>2009</td>\n",
       "      <td>53.456363</td>\n",
       "      <td>1.631621</td>\n",
       "      <td>28.066087</td>\n",
       "      <td>47.05249</td>\n",
       "      <td>14.494741</td>\n",
       "      <td>40.523115</td>\n",
       "      <td>0.56408</td>\n",
       "      <td>0.323633</td>\n",
       "      <td>3.836553</td>\n",
       "      <td>4.311618</td>\n",
       "      <td>0.86357</td>\n",
       "      <td>33.25469</td>\n",
       "      <td>105.078</td>\n",
       "      <td>104.017</td>\n",
       "      <td>1.880030</td>\n",
       "      <td>111.9290</td>\n",
       "      <td>0.593024</td>\n",
       "      <td>1.385490</td>\n",
       "      <td>-0.792469</td>\n",
       "      <td>-0.300196</td>\n",
       "      <td>24.5294</td>\n",
       "      <td>-0.052263</td>\n",
       "      <td>-0.247934</td>\n",
       "      <td>0.6765</td>\n",
       "      <td>1.2647</td>\n",
       "      <td>1.9412</td>\n",
       "      <td>1.8235</td>\n",
       "      <td>0.4118</td>\n",
       "      <td>0.2353</td>\n",
       "      <td>5.9412</td>\n",
       "      <td>327</td>\n",
       "      <td>33</td>\n",
       "      <td>0</td>\n",
       "    </tr>\n",
       "    <tr>\n",
       "      <th>2</th>\n",
       "      <td>27</td>\n",
       "      <td>72.0</td>\n",
       "      <td>96.2</td>\n",
       "      <td>21.8</td>\n",
       "      <td>45.7</td>\n",
       "      <td>47.98</td>\n",
       "      <td>2.1</td>\n",
       "      <td>8.0</td>\n",
       "      <td>14.7</td>\n",
       "      <td>15.9</td>\n",
       "      <td>45</td>\n",
       "      <td>67</td>\n",
       "      <td>0.672</td>\n",
       "      <td>67</td>\n",
       "      <td>157</td>\n",
       "      <td>0.427</td>\n",
       "      <td>50</td>\n",
       "      <td>154</td>\n",
       "      <td>0.325</td>\n",
       "      <td>0.0</td>\n",
       "      <td>0.9</td>\n",
       "      <td>21.5</td>\n",
       "      <td>2.274070</td>\n",
       "      <td>104.1070</td>\n",
       "      <td>1.7</td>\n",
       "      <td>2009</td>\n",
       "      <td>53.456363</td>\n",
       "      <td>1.081662</td>\n",
       "      <td>28.066087</td>\n",
       "      <td>47.05249</td>\n",
       "      <td>14.494741</td>\n",
       "      <td>40.523115</td>\n",
       "      <td>0.56408</td>\n",
       "      <td>0.323633</td>\n",
       "      <td>3.836553</td>\n",
       "      <td>4.311618</td>\n",
       "      <td>0.86357</td>\n",
       "      <td>33.25469</td>\n",
       "      <td>107.556</td>\n",
       "      <td>102.154</td>\n",
       "      <td>2.763870</td>\n",
       "      <td>115.0210</td>\n",
       "      <td>0.003161</td>\n",
       "      <td>1.024770</td>\n",
       "      <td>-1.021610</td>\n",
       "      <td>0.665065</td>\n",
       "      <td>33.1852</td>\n",
       "      <td>1.548230</td>\n",
       "      <td>-0.883163</td>\n",
       "      <td>0.6296</td>\n",
       "      <td>2.3333</td>\n",
       "      <td>2.9630</td>\n",
       "      <td>1.9630</td>\n",
       "      <td>0.4815</td>\n",
       "      <td>0.0000</td>\n",
       "      <td>12.1852</td>\n",
       "      <td>272</td>\n",
       "      <td>7</td>\n",
       "      <td>0</td>\n",
       "    </tr>\n",
       "    <tr>\n",
       "      <th>3</th>\n",
       "      <td>30</td>\n",
       "      <td>44.5</td>\n",
       "      <td>97.7</td>\n",
       "      <td>16.0</td>\n",
       "      <td>53.6</td>\n",
       "      <td>53.69</td>\n",
       "      <td>4.1</td>\n",
       "      <td>9.4</td>\n",
       "      <td>13.7</td>\n",
       "      <td>23.8</td>\n",
       "      <td>14</td>\n",
       "      <td>27</td>\n",
       "      <td>0.519</td>\n",
       "      <td>25</td>\n",
       "      <td>63</td>\n",
       "      <td>0.397</td>\n",
       "      <td>28</td>\n",
       "      <td>62</td>\n",
       "      <td>0.452</td>\n",
       "      <td>0.8</td>\n",
       "      <td>1.9</td>\n",
       "      <td>21.6</td>\n",
       "      <td>0.552857</td>\n",
       "      <td>93.2086</td>\n",
       "      <td>2.0</td>\n",
       "      <td>2009</td>\n",
       "      <td>53.456363</td>\n",
       "      <td>0.942830</td>\n",
       "      <td>28.066087</td>\n",
       "      <td>47.05249</td>\n",
       "      <td>14.494741</td>\n",
       "      <td>40.523115</td>\n",
       "      <td>0.56408</td>\n",
       "      <td>0.323633</td>\n",
       "      <td>3.836553</td>\n",
       "      <td>4.311618</td>\n",
       "      <td>0.86357</td>\n",
       "      <td>33.25469</td>\n",
       "      <td>108.858</td>\n",
       "      <td>106.556</td>\n",
       "      <td>1.218710</td>\n",
       "      <td>84.1698</td>\n",
       "      <td>-0.977798</td>\n",
       "      <td>-0.502574</td>\n",
       "      <td>-0.475224</td>\n",
       "      <td>-0.736233</td>\n",
       "      <td>17.9667</td>\n",
       "      <td>-0.342775</td>\n",
       "      <td>-0.393459</td>\n",
       "      <td>0.7000</td>\n",
       "      <td>1.4333</td>\n",
       "      <td>2.1333</td>\n",
       "      <td>1.1000</td>\n",
       "      <td>0.5667</td>\n",
       "      <td>0.1333</td>\n",
       "      <td>4.9333</td>\n",
       "      <td>231</td>\n",
       "      <td>34</td>\n",
       "      <td>0</td>\n",
       "    </tr>\n",
       "    <tr>\n",
       "      <th>4</th>\n",
       "      <td>33</td>\n",
       "      <td>56.2</td>\n",
       "      <td>96.5</td>\n",
       "      <td>22.0</td>\n",
       "      <td>52.8</td>\n",
       "      <td>54.31</td>\n",
       "      <td>8.3</td>\n",
       "      <td>18.6</td>\n",
       "      <td>8.2</td>\n",
       "      <td>22.7</td>\n",
       "      <td>64</td>\n",
       "      <td>114</td>\n",
       "      <td>0.561</td>\n",
       "      <td>93</td>\n",
       "      <td>176</td>\n",
       "      <td>0.528</td>\n",
       "      <td>0</td>\n",
       "      <td>0</td>\n",
       "      <td>0.000</td>\n",
       "      <td>1.9</td>\n",
       "      <td>1.3</td>\n",
       "      <td>64.8</td>\n",
       "      <td>1.060130</td>\n",
       "      <td>97.8554</td>\n",
       "      <td>3.8</td>\n",
       "      <td>2009</td>\n",
       "      <td>53.456363</td>\n",
       "      <td>0.491229</td>\n",
       "      <td>28.066087</td>\n",
       "      <td>47.05249</td>\n",
       "      <td>14.494741</td>\n",
       "      <td>40.523115</td>\n",
       "      <td>0.56408</td>\n",
       "      <td>0.323633</td>\n",
       "      <td>3.836553</td>\n",
       "      <td>4.311618</td>\n",
       "      <td>0.86357</td>\n",
       "      <td>33.25469</td>\n",
       "      <td>101.052</td>\n",
       "      <td>100.724</td>\n",
       "      <td>1.992790</td>\n",
       "      <td>128.0280</td>\n",
       "      <td>-1.836060</td>\n",
       "      <td>-1.946040</td>\n",
       "      <td>0.109983</td>\n",
       "      <td>-2.353180</td>\n",
       "      <td>22.9091</td>\n",
       "      <td>-1.684860</td>\n",
       "      <td>-0.668318</td>\n",
       "      <td>1.4242</td>\n",
       "      <td>3.3030</td>\n",
       "      <td>4.7273</td>\n",
       "      <td>0.8485</td>\n",
       "      <td>0.4545</td>\n",
       "      <td>0.3333</td>\n",
       "      <td>7.5758</td>\n",
       "      <td>228</td>\n",
       "      <td>10</td>\n",
       "      <td>0</td>\n",
       "    </tr>\n",
       "  </tbody>\n",
       "</table>\n",
       "</div>"
      ],
      "text/plain": [
       "   GP  Min_per   Ortg   usg   eFG  TS_per  ORB_per  DRB_per  AST_per  TO_per  \\\n",
       "0  26     29.5   97.3  16.6  42.5   44.43      1.6      4.6     15.8    16.3   \n",
       "1  34     60.9  108.3  14.9  52.4   54.48      3.8      6.3     13.6    19.8   \n",
       "2  27     72.0   96.2  21.8  45.7   47.98      2.1      8.0     14.7    15.9   \n",
       "3  30     44.5   97.7  16.0  53.6   53.69      4.1      9.4     13.7    23.8   \n",
       "4  33     56.2   96.5  22.0  52.8   54.31      8.3     18.6      8.2    22.7   \n",
       "\n",
       "   FTM  FTA  FT_per  twoPM  twoPA  twoP_per  TPM  TPA  TP_per  blk_per  \\\n",
       "0   10   14   0.714     26     68     0.382   13   39   0.333      0.3   \n",
       "1   30   45   0.667     56    113     0.496   20   51   0.392      1.0   \n",
       "2   45   67   0.672     67    157     0.427   50  154   0.325      0.0   \n",
       "3   14   27   0.519     25     63     0.397   28   62   0.452      0.8   \n",
       "4   64  114   0.561     93    176     0.528    0    0   0.000      1.9   \n",
       "\n",
       "   stl_per   ftr    porpag     adjoe  pfr  year   Rec_Rank   ast_tov  \\\n",
       "0      1.5  13.1  0.258086   89.3938  2.5  2009  53.456363  1.823646   \n",
       "1      1.1  27.4  1.334920  100.0660  3.4  2009  53.456363  1.631621   \n",
       "2      0.9  21.5  2.274070  104.1070  1.7  2009  53.456363  1.081662   \n",
       "3      1.9  21.6  0.552857   93.2086  2.0  2009  53.456363  0.942830   \n",
       "4      1.3  64.8  1.060130   97.8554  3.8  2009  53.456363  0.491229   \n",
       "\n",
       "     rimmade  rimmade_rimmiss    midmade  midmade_midmiss  rim_ratio  \\\n",
       "0  28.066087         47.05249  14.494741        40.523115    0.56408   \n",
       "1  28.066087         47.05249  14.494741        40.523115    0.56408   \n",
       "2  28.066087         47.05249  14.494741        40.523115    0.56408   \n",
       "3  28.066087         47.05249  14.494741        40.523115    0.56408   \n",
       "4  28.066087         47.05249  14.494741        40.523115    0.56408   \n",
       "\n",
       "   mid_ratio  dunksmade  dunksmiss_dunksmade  dunks_ratio      pick     drtg  \\\n",
       "0   0.323633   3.836553             4.311618      0.86357  33.25469  108.321   \n",
       "1   0.323633   3.836553             4.311618      0.86357  33.25469  105.078   \n",
       "2   0.323633   3.836553             4.311618      0.86357  33.25469  107.556   \n",
       "3   0.323633   3.836553             4.311618      0.86357  33.25469  108.858   \n",
       "4   0.323633   3.836553             4.311618      0.86357  33.25469  101.052   \n",
       "\n",
       "     adrtg   dporpag     stops       bpm      obpm      dbpm      gbpm  \\\n",
       "0  108.527  0.893017   49.9644 -4.995140 -1.623360 -3.371780 -4.723150   \n",
       "1  104.017  1.880030  111.9290  0.593024  1.385490 -0.792469 -0.300196   \n",
       "2  102.154  2.763870  115.0210  0.003161  1.024770 -1.021610  0.665065   \n",
       "3  106.556  1.218710   84.1698 -0.977798 -0.502574 -0.475224 -0.736233   \n",
       "4  100.724  1.992790  128.0280 -1.836060 -1.946040  0.109983 -2.353180   \n",
       "\n",
       "        mp     ogbpm     dgbpm    oreb    dreb    treb     ast     stl  \\\n",
       "0  14.5769 -2.781990 -1.941150  0.1923  0.6154  0.8077  1.1923  0.3462   \n",
       "1  24.5294 -0.052263 -0.247934  0.6765  1.2647  1.9412  1.8235  0.4118   \n",
       "2  33.1852  1.548230 -0.883163  0.6296  2.3333  2.9630  1.9630  0.4815   \n",
       "3  17.9667 -0.342775 -0.393459  0.7000  1.4333  2.1333  1.1000  0.5667   \n",
       "4  22.9091 -1.684860 -0.668318  1.4242  3.3030  4.7273  0.8485  0.4545   \n",
       "\n",
       "      blk      pts  le_team  le_conf  le_type  \n",
       "0  0.0385   3.8846      267       27        0  \n",
       "1  0.2353   5.9412      327       33        0  \n",
       "2  0.0000  12.1852      272        7        0  \n",
       "3  0.1333   4.9333      231       34        0  \n",
       "4  0.3333   7.5758      228       10        0  "
      ]
     },
     "execution_count": 118,
     "metadata": {},
     "output_type": "execute_result"
    }
   ],
   "source": [
    "df_X_train.head(5)"
   ]
  },
  {
   "cell_type": "markdown",
   "id": "e4b2a075-5a62-43a5-b9b2-aa9f73833d9e",
   "metadata": {},
   "source": [
    "Now, to scale the dataset, I am performing Normalization as the dataset is in the different set of range and to scale, I am performing the Normalization."
   ]
  },
  {
   "cell_type": "code",
   "execution_count": 119,
   "id": "d9ae15dc-5e8b-47ad-987e-02c0a13a9e52",
   "metadata": {},
   "outputs": [],
   "source": [
    "from sklearn.preprocessing import MinMaxScaler"
   ]
  },
  {
   "cell_type": "code",
   "execution_count": 120,
   "id": "b6b3a6b4-baec-4e7c-bded-23ef598f476a",
   "metadata": {},
   "outputs": [],
   "source": [
    "norm = MinMaxScaler().fit(df_X_train)"
   ]
  },
  {
   "cell_type": "code",
   "execution_count": 121,
   "id": "5f204b16-42ce-4d1c-b790-b07879d14a56",
   "metadata": {},
   "outputs": [],
   "source": [
    "X_train_norm = norm.transform(df_X_train)\n",
    "X_test_norm = norm.transform(df_test)"
   ]
  },
  {
   "cell_type": "code",
   "execution_count": 125,
   "id": "7c021288-0879-4297-adf4-1d803a756ed3",
   "metadata": {},
   "outputs": [
    {
     "name": "stdout",
     "output_type": "stream",
     "text": [
      "(56091, 59)\n",
      "(4970, 59)\n"
     ]
    }
   ],
   "source": [
    "print(X_train_norm.shape)\n",
    "print(X_test_norm.shape)"
   ]
  },
  {
   "cell_type": "markdown",
   "id": "a8cd0571-b65e-42f2-8c80-f9e793691909",
   "metadata": {},
   "source": [
    "By using train_test_split, divide the train data into train-test dataset."
   ]
  },
  {
   "cell_type": "code",
   "execution_count": 127,
   "id": "2a066dfb-937a-4cbd-8056-13368d7dda98",
   "metadata": {},
   "outputs": [
    {
     "data": {
      "text/plain": [
       "(11219, 59)"
      ]
     },
     "execution_count": 127,
     "metadata": {},
     "output_type": "execute_result"
    }
   ],
   "source": [
    "from sklearn.model_selection import train_test_split\n",
    "X_train, X_test, Y_train, Y_test = train_test_split(X_train_norm, df_Y_train, train_size=0.8)\n",
    "X_test.shape"
   ]
  },
  {
   "cell_type": "markdown",
   "id": "a26ba889-e6f0-4ebe-bd12-f98ff2c0e127",
   "metadata": {},
   "source": [
    "Now, Perform the Decision Tress model for the data modelling."
   ]
  },
  {
   "cell_type": "code",
   "execution_count": 164,
   "id": "793d7e35-caaf-498d-91a1-c20612fcde11",
   "metadata": {},
   "outputs": [],
   "source": [
    "from sklearn import tree\n",
    "model = tree.DecisionTreeClassifier()"
   ]
  },
  {
   "cell_type": "code",
   "execution_count": 165,
   "id": "9c3649a1-79de-4f6a-82ca-fbcd4c42659d",
   "metadata": {},
   "outputs": [
    {
     "data": {
      "text/html": [
       "<style>#sk-container-id-4 {color: black;background-color: white;}#sk-container-id-4 pre{padding: 0;}#sk-container-id-4 div.sk-toggleable {background-color: white;}#sk-container-id-4 label.sk-toggleable__label {cursor: pointer;display: block;width: 100%;margin-bottom: 0;padding: 0.3em;box-sizing: border-box;text-align: center;}#sk-container-id-4 label.sk-toggleable__label-arrow:before {content: \"▸\";float: left;margin-right: 0.25em;color: #696969;}#sk-container-id-4 label.sk-toggleable__label-arrow:hover:before {color: black;}#sk-container-id-4 div.sk-estimator:hover label.sk-toggleable__label-arrow:before {color: black;}#sk-container-id-4 div.sk-toggleable__content {max-height: 0;max-width: 0;overflow: hidden;text-align: left;background-color: #f0f8ff;}#sk-container-id-4 div.sk-toggleable__content pre {margin: 0.2em;color: black;border-radius: 0.25em;background-color: #f0f8ff;}#sk-container-id-4 input.sk-toggleable__control:checked~div.sk-toggleable__content {max-height: 200px;max-width: 100%;overflow: auto;}#sk-container-id-4 input.sk-toggleable__control:checked~label.sk-toggleable__label-arrow:before {content: \"▾\";}#sk-container-id-4 div.sk-estimator input.sk-toggleable__control:checked~label.sk-toggleable__label {background-color: #d4ebff;}#sk-container-id-4 div.sk-label input.sk-toggleable__control:checked~label.sk-toggleable__label {background-color: #d4ebff;}#sk-container-id-4 input.sk-hidden--visually {border: 0;clip: rect(1px 1px 1px 1px);clip: rect(1px, 1px, 1px, 1px);height: 1px;margin: -1px;overflow: hidden;padding: 0;position: absolute;width: 1px;}#sk-container-id-4 div.sk-estimator {font-family: monospace;background-color: #f0f8ff;border: 1px dotted black;border-radius: 0.25em;box-sizing: border-box;margin-bottom: 0.5em;}#sk-container-id-4 div.sk-estimator:hover {background-color: #d4ebff;}#sk-container-id-4 div.sk-parallel-item::after {content: \"\";width: 100%;border-bottom: 1px solid gray;flex-grow: 1;}#sk-container-id-4 div.sk-label:hover label.sk-toggleable__label {background-color: #d4ebff;}#sk-container-id-4 div.sk-serial::before {content: \"\";position: absolute;border-left: 1px solid gray;box-sizing: border-box;top: 0;bottom: 0;left: 50%;z-index: 0;}#sk-container-id-4 div.sk-serial {display: flex;flex-direction: column;align-items: center;background-color: white;padding-right: 0.2em;padding-left: 0.2em;position: relative;}#sk-container-id-4 div.sk-item {position: relative;z-index: 1;}#sk-container-id-4 div.sk-parallel {display: flex;align-items: stretch;justify-content: center;background-color: white;position: relative;}#sk-container-id-4 div.sk-item::before, #sk-container-id-4 div.sk-parallel-item::before {content: \"\";position: absolute;border-left: 1px solid gray;box-sizing: border-box;top: 0;bottom: 0;left: 50%;z-index: -1;}#sk-container-id-4 div.sk-parallel-item {display: flex;flex-direction: column;z-index: 1;position: relative;background-color: white;}#sk-container-id-4 div.sk-parallel-item:first-child::after {align-self: flex-end;width: 50%;}#sk-container-id-4 div.sk-parallel-item:last-child::after {align-self: flex-start;width: 50%;}#sk-container-id-4 div.sk-parallel-item:only-child::after {width: 0;}#sk-container-id-4 div.sk-dashed-wrapped {border: 1px dashed gray;margin: 0 0.4em 0.5em 0.4em;box-sizing: border-box;padding-bottom: 0.4em;background-color: white;}#sk-container-id-4 div.sk-label label {font-family: monospace;font-weight: bold;display: inline-block;line-height: 1.2em;}#sk-container-id-4 div.sk-label-container {text-align: center;}#sk-container-id-4 div.sk-container {/* jupyter's `normalize.less` sets `[hidden] { display: none; }` but bootstrap.min.css set `[hidden] { display: none !important; }` so we also need the `!important` here to be able to override the default hidden behavior on the sphinx rendered scikit-learn.org. See: https://github.com/scikit-learn/scikit-learn/issues/21755 */display: inline-block !important;position: relative;}#sk-container-id-4 div.sk-text-repr-fallback {display: none;}</style><div id=\"sk-container-id-4\" class=\"sk-top-container\"><div class=\"sk-text-repr-fallback\"><pre>DecisionTreeClassifier()</pre><b>In a Jupyter environment, please rerun this cell to show the HTML representation or trust the notebook. <br />On GitHub, the HTML representation is unable to render, please try loading this page with nbviewer.org.</b></div><div class=\"sk-container\" hidden><div class=\"sk-item\"><div class=\"sk-estimator sk-toggleable\"><input class=\"sk-toggleable__control sk-hidden--visually\" id=\"sk-estimator-id-4\" type=\"checkbox\" checked><label for=\"sk-estimator-id-4\" class=\"sk-toggleable__label sk-toggleable__label-arrow\">DecisionTreeClassifier</label><div class=\"sk-toggleable__content\"><pre>DecisionTreeClassifier()</pre></div></div></div></div></div>"
      ],
      "text/plain": [
       "DecisionTreeClassifier()"
      ]
     },
     "execution_count": 165,
     "metadata": {},
     "output_type": "execute_result"
    }
   ],
   "source": [
    "model.fit(X_train, Y_train)"
   ]
  },
  {
   "cell_type": "code",
   "execution_count": 166,
   "id": "79a183c2-1c1c-43b5-bfc1-1dfe18d1f9be",
   "metadata": {},
   "outputs": [],
   "source": [
    "y_pred = model.predict_proba(X_test)"
   ]
  },
  {
   "cell_type": "code",
   "execution_count": 167,
   "id": "cfe30b38-7a4c-4b31-98c5-850c950fbfae",
   "metadata": {},
   "outputs": [],
   "source": [
    "predicted = model.predict(X_test)"
   ]
  },
  {
   "cell_type": "code",
   "execution_count": 168,
   "id": "9317fd20-6d4c-465c-a8a2-9976ed73e73a",
   "metadata": {},
   "outputs": [],
   "source": [
    "import numpy as np\n",
    "np.set_printoptions(formatter={'float_kind':'{:f}'.format})"
   ]
  },
  {
   "cell_type": "code",
   "execution_count": 169,
   "id": "31458a7c-c830-428b-8e61-abda4c9f392f",
   "metadata": {},
   "outputs": [
    {
     "data": {
      "text/plain": [
       "array([[1.000000, 0.000000],\n",
       "       [1.000000, 0.000000],\n",
       "       [0.000000, 1.000000],\n",
       "       ...,\n",
       "       [1.000000, 0.000000],\n",
       "       [1.000000, 0.000000],\n",
       "       [1.000000, 0.000000]])"
      ]
     },
     "execution_count": 169,
     "metadata": {},
     "output_type": "execute_result"
    }
   ],
   "source": [
    "y_pred"
   ]
  },
  {
   "cell_type": "markdown",
   "id": "cb8106cd-ad8e-4c29-bc21-5add0512c044",
   "metadata": {},
   "source": [
    "Check the model performance on the test data of train-test split technique."
   ]
  },
  {
   "cell_type": "code",
   "execution_count": 170,
   "id": "01780722-7f15-4d9a-9515-90128d231ec3",
   "metadata": {},
   "outputs": [
    {
     "data": {
      "text/plain": [
       "0.9917104911311169"
      ]
     },
     "execution_count": 170,
     "metadata": {},
     "output_type": "execute_result"
    }
   ],
   "source": [
    "model.score(X_test, Y_test)"
   ]
  },
  {
   "cell_type": "code",
   "execution_count": 171,
   "id": "c19b4b97-74d7-4ba9-bd7e-2fc0e2e544fb",
   "metadata": {},
   "outputs": [
    {
     "name": "stdout",
     "output_type": "stream",
     "text": [
      "cross val score - Random Forest Classifier -  [0.991532 0.990283 0.992423 0.990997 0.992155]\n"
     ]
    }
   ],
   "source": [
    "from sklearn.model_selection import cross_val_score\n",
    "print(\"cross val score - Random Forest Classifier - \",\n",
    "          cross_val_score(tree.DecisionTreeClassifier(), df_X_train, df_Y_train, cv = 5))"
   ]
  },
  {
   "cell_type": "markdown",
   "id": "9f150e55-605d-437e-b946-77a01ab5d336",
   "metadata": {},
   "source": [
    "To measure the accuracy of model, perform the MSE and MAE with the predicted variable and target variable."
   ]
  },
  {
   "cell_type": "code",
   "execution_count": 172,
   "id": "717589ff-18da-4d83-aeaa-65df23d4c031",
   "metadata": {},
   "outputs": [],
   "source": [
    "from sklearn.metrics import (\n",
    "    mean_absolute_error, # MAE\n",
    "    mean_squared_error # MSE\n",
    ")"
   ]
  },
  {
   "cell_type": "code",
   "execution_count": 173,
   "id": "46650852-0352-4957-a1fd-dfd9b7167420",
   "metadata": {},
   "outputs": [
    {
     "data": {
      "text/plain": [
       "0.01"
      ]
     },
     "execution_count": 173,
     "metadata": {},
     "output_type": "execute_result"
    }
   ],
   "source": [
    "MAE = mean_absolute_error(\n",
    "    y_true=Y_test, # actual values\n",
    "    y_pred=predicted # predicted values\n",
    ")\n",
    "MAE.round(2)"
   ]
  },
  {
   "cell_type": "code",
   "execution_count": 174,
   "id": "27edf0eb-bd34-40a3-96a1-f3f509198126",
   "metadata": {},
   "outputs": [
    {
     "data": {
      "text/plain": [
       "0.01"
      ]
     },
     "execution_count": 174,
     "metadata": {},
     "output_type": "execute_result"
    }
   ],
   "source": [
    "MSE = mean_squared_error(\n",
    "    y_true=Y_test, # actual values\n",
    "    y_pred=predicted # predicted values\n",
    ")\n",
    "MSE.round(2)"
   ]
  },
  {
   "cell_type": "markdown",
   "id": "25c73cc7-49c3-44f2-b72f-192156649d6f",
   "metadata": {},
   "source": [
    "Draw the confusion matrix of predicted value and the actual value."
   ]
  },
  {
   "cell_type": "code",
   "execution_count": 175,
   "id": "2101364e-0da1-4a55-8f4a-d1224eb3827e",
   "metadata": {},
   "outputs": [],
   "source": [
    "from sklearn.metrics import confusion_matrix"
   ]
  },
  {
   "cell_type": "code",
   "execution_count": 176,
   "id": "61293934-0915-42d9-9068-eb7359203393",
   "metadata": {},
   "outputs": [
    {
     "data": {
      "text/plain": [
       "array([[11067,    44],\n",
       "       [   49,    59]], dtype=int64)"
      ]
     },
     "execution_count": 176,
     "metadata": {},
     "output_type": "execute_result"
    }
   ],
   "source": [
    "cm = confusion_matrix(Y_test, predicted)\n",
    "cm"
   ]
  },
  {
   "cell_type": "code",
   "execution_count": 177,
   "id": "571d4a62-5a4b-4ff0-8e6a-7788e6f0b37a",
   "metadata": {},
   "outputs": [
    {
     "data": {
      "image/png": "[encoded data removed]",
      "text/plain": [
       "<Figure size 1000x700 with 2 Axes>"
      ]
     },
     "metadata": {},
     "output_type": "display_data"
    }
   ],
   "source": [
    "from matplotlib import pyplot as plt\n",
    "import seaborn as sb\n",
    "plt.figure(figsize=(10, 7))\n",
    "sb.heatmap(cm,annot=True,fmt='g')\n",
    "# sb.heatmap(cm, annot=True)\n",
    "plt.xlabel('Predicted')\n",
    "plt.ylabel('Truth')\n",
    "plt.show()"
   ]
  },
  {
   "cell_type": "markdown",
   "id": "e6aebc6c-fb11-48d4-a83f-30c216aed7e3",
   "metadata": {},
   "source": [
    "Now, draw AUROC curve to check the performance of the model."
   ]
  },
  {
   "cell_type": "code",
   "execution_count": 178,
   "id": "c8f51c3d-c599-4c0a-858a-6b324793bcc9",
   "metadata": {},
   "outputs": [
    {
     "name": "stderr",
     "output_type": "stream",
     "text": [
      "D:\\Tarun\\Anaconda3\\lib\\site-packages\\sklearn\\base.py:413: UserWarning: X has feature names, but DecisionTreeClassifier was fitted without feature names\n",
      "  warnings.warn(\n"
     ]
    }
   ],
   "source": [
    "y_pred_test = model.predict_proba(df_test)"
   ]
  },
  {
   "cell_type": "code",
   "execution_count": 185,
   "id": "db2bfcfc-ca68-4527-8ec0-ad0dc8d14948",
   "metadata": {},
   "outputs": [],
   "source": [
    "from sklearn.metrics import roc_curve"
   ]
  },
  {
   "cell_type": "code",
   "execution_count": 186,
   "id": "9d4155fb-c650-4214-98a9-ff91d27cc117",
   "metadata": {},
   "outputs": [],
   "source": [
    "fpr, tpr, thresh = roc_curve(Y_test, y_pred[:,1], pos_label=1)"
   ]
  },
  {
   "cell_type": "code",
   "execution_count": 187,
   "id": "bce7af2c-607e-43ea-be7b-9603bb5f613d",
   "metadata": {},
   "outputs": [],
   "source": [
    "random_probs = [0 for i in range(len(Y_test))]\n",
    "p_fpr, p_tpr, _ = roc_curve(Y_test, random_probs, pos_label=1)"
   ]
  },
  {
   "cell_type": "code",
   "execution_count": 188,
   "id": "01fb7cbe-fee8-4f55-a406-6a03d6618ede",
   "metadata": {},
   "outputs": [],
   "source": [
    "from sklearn.metrics import roc_auc_score"
   ]
  },
  {
   "cell_type": "code",
   "execution_count": 190,
   "id": "01ee02f7-de71-4345-b30e-8dc2b5a6ab4c",
   "metadata": {},
   "outputs": [
    {
     "name": "stdout",
     "output_type": "stream",
     "text": [
      "0.7711681283479501\n"
     ]
    }
   ],
   "source": [
    "print(auc_score)"
   ]
  },
  {
   "cell_type": "code",
   "execution_count": 191,
   "id": "a9eb1938-86ca-4207-ac20-83cdd1f7bf0f",
   "metadata": {},
   "outputs": [
    {
     "name": "stderr",
     "output_type": "stream",
     "text": [
      "D:\\Tarun\\TemporaryFiles\\ipykernel_7960\\4098886997.py:2: MatplotlibDeprecationWarning: The seaborn styles shipped by Matplotlib are deprecated since 3.6, as they no longer correspond to the styles shipped by seaborn. However, they will remain available as 'seaborn-v0_8-<style>'. Alternatively, directly use the seaborn API instead.\n",
      "  plt.style.use('seaborn')\n"
     ]
    }
   ],
   "source": [
    "import matplotlib.pyplot as plt\n",
    "plt.style.use('seaborn')"
   ]
  },
  {
   "cell_type": "code",
   "execution_count": 189,
   "id": "1c638a3b-6540-4277-9a4b-3e2f6780d5ab",
   "metadata": {},
   "outputs": [],
   "source": [
    "auc_score = roc_auc_score(Y_test, y_pred[:,1])"
   ]
  },
  {
   "cell_type": "code",
   "execution_count": 192,
   "id": "7ce33935-2572-4470-b8f9-2f55159dc9ed",
   "metadata": {},
   "outputs": [
    {
     "data": {
      "image/png": "[encoded data removed]",
      "text/plain": [
       "<Figure size 800x550 with 1 Axes>"
      ]
     },
     "metadata": {},
     "output_type": "display_data"
    }
   ],
   "source": [
    "plt.plot(fpr, tpr, linestyle='--',color='orange', label='Logistic Regression')\n",
    "plt.plot(p_fpr, p_tpr, linestyle='--', color='blue')\n",
    "plt.title('ROC curve')\n",
    "plt.xlabel('False Positive Rate')\n",
    "plt.ylabel('True Positive rate')\n",
    "plt.legend(loc='best')\n",
    "plt.savefig('ROC',dpi=300)\n",
    "plt.show();"
   ]
  },
  {
   "cell_type": "markdown",
   "id": "fae58a3e-f1f4-4cdc-8a2a-2ef10a4d497e",
   "metadata": {},
   "source": [
    "Now, predict the target value on the actual test dataset."
   ]
  },
  {
   "cell_type": "code",
   "execution_count": 179,
   "id": "6940799e-485d-4ef0-b258-7038f306c877",
   "metadata": {},
   "outputs": [
    {
     "data": {
      "text/plain": [
       "array([[1.000000, 0.000000],\n",
       "       [0.000000, 1.000000],\n",
       "       [1.000000, 0.000000],\n",
       "       ...,\n",
       "       [0.000000, 1.000000],\n",
       "       [0.000000, 1.000000],\n",
       "       [0.000000, 1.000000]])"
      ]
     },
     "execution_count": 179,
     "metadata": {},
     "output_type": "execute_result"
    }
   ],
   "source": [
    "y_pred_test"
   ]
  },
  {
   "cell_type": "code",
   "execution_count": 180,
   "id": "470cff4b-6bb5-4532-8c7a-f62488e6a498",
   "metadata": {},
   "outputs": [],
   "source": [
    "df_result = pd.DataFrame()"
   ]
  },
  {
   "cell_type": "code",
   "execution_count": 181,
   "id": "d27dc6ff-a0e0-4ad0-8866-67266cd1b76e",
   "metadata": {},
   "outputs": [],
   "source": [
    "df_result['player_id'] = df_player_id_test"
   ]
  },
  {
   "cell_type": "code",
   "execution_count": 182,
   "id": "9a803bb6-0ed1-41e6-99d7-7eb5f7d83729",
   "metadata": {},
   "outputs": [
    {
     "data": {
      "text/plain": [
       "(4970, 1)"
      ]
     },
     "execution_count": 182,
     "metadata": {},
     "output_type": "execute_result"
    }
   ],
   "source": [
    "df_result.shape"
   ]
  },
  {
   "cell_type": "code",
   "execution_count": 183,
   "id": "7af739f5-e2ee-499a-9bf9-01ded5e018b2",
   "metadata": {},
   "outputs": [],
   "source": [
    "df_result['drafted'] = y_pred_test[:,1]"
   ]
  },
  {
   "cell_type": "code",
   "execution_count": 184,
   "id": "9bae9941-3f75-4214-b4ec-8451ad5ed06d",
   "metadata": {},
   "outputs": [],
   "source": [
    "result_csv_data = df_result.to_csv('D:\\\\Tarun\\\\UTS\\\\Subjects\\\\ADV ML\\\\advmla-2023-spring\\\\result_csv_data_comp_3.csv', index = True)"
   ]
  },
  {
   "cell_type": "code",
   "execution_count": null,
   "id": "8ea55dd3-7f00-4881-afcb-5387811d1e52",
   "metadata": {},
   "outputs": [],
   "source": []
  }
 ],
 "metadata": {
  "kernelspec": {
   "display_name": "Python 3 (ipykernel)",
   "language": "python",
   "name": "python3"
  },
  "language_info": {
   "codemirror_mode": {
    "name": "ipython",
    "version": 3
   },
   "file_extension": ".py",
   "mimetype": "text/x-python",
   "name": "python",
   "nbconvert_exporter": "python",
   "pygments_lexer": "ipython3",
   "version": "3.10.9"
  }
 },
 "nbformat": 4,
 "nbformat_minor": 5
}
